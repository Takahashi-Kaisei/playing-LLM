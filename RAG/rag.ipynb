{
 "cells": [
  {
   "cell_type": "markdown",
   "metadata": {},
   "source": [
    "# RAG"
   ]
  },
  {
   "cell_type": "markdown",
   "metadata": {},
   "source": [
    "## シンプルなRAG\n",
    "\n",
    "- データをロード\n",
    "- テキストスプリット\n",
    "- ベクトルストア\n",
    "- リトリーバーの定義\n",
    "- チェイン\n",
    "- クエリを投げて，回答を得る．"
   ]
  },
  {
   "cell_type": "markdown",
   "metadata": {},
   "source": [
    "作成したモデルをインポートする．同じ階層にあるやつね．"
   ]
  },
  {
   "cell_type": "code",
   "execution_count": 1,
   "metadata": {},
   "outputs": [
    {
     "name": "stderr",
     "output_type": "stream",
     "text": [
      "/Users/takahashikaisei/mydir/local-repository/playing-LLM/.env_RAG/lib/python3.12/site-packages/tqdm/auto.py:21: TqdmWarning: IProgress not found. Please update jupyter and ipywidgets. See https://ipywidgets.readthedocs.io/en/stable/user_install.html\n",
      "  from .autonotebook import tqdm as notebook_tqdm\n",
      "[nltk_data] Downloading package punkt to\n",
      "[nltk_data]     /Users/takahashikaisei/nltk_data...\n",
      "[nltk_data]   Package punkt is already up-to-date!\n"
     ]
    }
   ],
   "source": [
    "from gemini_rag import Gemini_RAG"
   ]
  },
  {
   "cell_type": "markdown",
   "metadata": {},
   "source": [
    "データを読み込む．\\\n",
    "この時にベクトルデータベースに格納されている．"
   ]
  },
  {
   "cell_type": "code",
   "execution_count": 2,
   "metadata": {},
   "outputs": [],
   "source": [
    "model = Gemini_RAG()\n",
    "model.save_text(\"rag.txt\")"
   ]
  },
  {
   "cell_type": "markdown",
   "metadata": {},
   "source": [
    "質問する．データの中にないことは「ない」って言われる．"
   ]
  },
  {
   "cell_type": "code",
   "execution_count": null,
   "metadata": {},
   "outputs": [],
   "source": [
    "model.run(prompt=\"モーメントとは何ですか？\", k=5)"
   ]
  },
  {
   "cell_type": "markdown",
   "metadata": {},
   "source": [
    "メモリ"
   ]
  },
  {
   "cell_type": "code",
   "execution_count": 1,
   "metadata": {},
   "outputs": [
    {
     "name": "stderr",
     "output_type": "stream",
     "text": [
      "/Users/takahashikaisei/mydir/local-repository/playing-LLM/.env_RAG/lib/python3.12/site-packages/tqdm/auto.py:21: TqdmWarning: IProgress not found. Please update jupyter and ipywidgets. See https://ipywidgets.readthedocs.io/en/stable/user_install.html\n",
      "  from .autonotebook import tqdm as notebook_tqdm\n",
      "[nltk_data] Downloading package punkt to\n",
      "[nltk_data]     /Users/takahashikaisei/nltk_data...\n",
      "[nltk_data]   Package punkt is already up-to-date!\n"
     ]
    }
   ],
   "source": [
    "from gemini_rag_memory import Gemini_RAG_Memory"
   ]
  },
  {
   "cell_type": "code",
   "execution_count": 2,
   "metadata": {},
   "outputs": [],
   "source": [
    "model = Gemini_RAG_Memory()\n",
    "model.save_text(\"rag.txt\")\n",
    "model.run()"
   ]
  },
  {
   "cell_type": "code",
   "execution_count": 3,
   "metadata": {},
   "outputs": [
    {
     "name": "stdout",
     "output_type": "stream",
     "text": [
      "型: <class 'dict'>\n",
      "input_: {'input': 'モーメントとは何ですか？', 'chat_history': []}\n",
      "-----------------\n",
      "context: [Document(id='e76520ef-24f7-46c0-bb7f-7b227371ae28', metadata={}, page_content='モーメント\\n=確率変数の~乗の期待値．\\n確率変数の 乗のモーメントは特別 次のモーメントというよ．\\nふむふむ，てことは平均は⼀次のモーメントってことだね．式でかくとこれ'), Document(id='f41d0744-7b12-4d23-a744-7484dce31ea2', metadata={}, page_content='出てきた．モーメントを知っているとこれが導出できるんやね．\\n第三回\\n第三回ではもっとモーメントについて深めていく．\\n⾼次のモーメント\\nモーメント⺟関数，期待値の性質．'), Document(id='e9c5a340-d09f-4545-9b10-e71f310672a1', metadata={}, page_content='次のモーメントがこんなにもスッキリ表せた．\\n具体的な確率密度でモーメントを求めてみる！！！\\n板書そのまま\\nk前半(確率論の考え⽅の基礎) 10'), Document(id='99e5a29b-361c-4795-a87c-126f21992ea2', metadata={}, page_content='値，確率密度の積分(規格化により1\\nうん，こいつらはよく出てくるのでまとめよう．それがモーメント.\\nモーメント\\n=確率変数の~乗の期待値．\\n確率変数の 乗のモーメントは特別 次のモーメントというよ．'), Document(id='00e739ed-91a9-4704-a7c3-803f00fa13f1', metadata={}, page_content='具体的な確率密度でモーメントを求めてみる！！！\\n板書そのまま\\nk前半(確率論の考え⽅の基礎) 10\\n最終的に がもとまるのがアツい． 次のモーメントが知りたかったら を⼊れてい\\nけば求められる．'), Document(id='2d5d7e0c-ef3b-4af6-8866-3c937f2536d0', metadata={}, page_content='だけは絶対覚える！！！！！！！！！！！\\n第四回\\n復習\\n⼤事なもの\\n第⼀回\\n確率変数\\n確率密度関数(確率密度，本質的な違いはない．)\\n分布関数\\n第⼆回\\n期待値，モーメント'), Document(id='b208d0ab-8cb9-4ba7-b179-325b374740cf', metadata={}, page_content='⼆項分布の分散\\n分散は⼀次のモーメントと⼆次のモーメントがあれば出せるので⼆次のモーメントだけ出せばOK\\nんでどうするかというと，\\nをもう⼀回微分する．'), Document(id='2fc7c9a6-8c86-426b-98a7-749734d092da', metadata={}, page_content='第三回\\n第三回ではもっとモーメントについて深めていく．\\n⾼次のモーメント\\nモーメント⺟関数，期待値の性質．\\nモーメント⺟関数：ある確率変数の関数．その関数の期待値を求めていくことで⾼')]\n"
     ]
    },
    {
     "ename": "TypeError",
     "evalue": "Expected mapping type as input to ChatPromptTemplate. Received <class 'list'>.\nFor troubleshooting, visit: https://python.langchain.com/docs/troubleshooting/errors/INVALID_PROMPT_INPUT ",
     "output_type": "error",
     "traceback": [
      "\u001b[0;31m---------------------------------------------------------------------------\u001b[0m",
      "\u001b[0;31mTypeError\u001b[0m                                 Traceback (most recent call last)",
      "Cell \u001b[0;32mIn[3], line 1\u001b[0m\n\u001b[0;32m----> 1\u001b[0m \u001b[43mmodel\u001b[49m\u001b[38;5;241;43m.\u001b[39;49m\u001b[43mask\u001b[49m\u001b[43m(\u001b[49m\u001b[43mprompt\u001b[49m\u001b[38;5;241;43m=\u001b[39;49m\u001b[38;5;124;43m\"\u001b[39;49m\u001b[38;5;124;43mモーメントとは何ですか？\u001b[39;49m\u001b[38;5;124;43m\"\u001b[39;49m\u001b[43m,\u001b[49m\u001b[43m \u001b[49m\u001b[43msession_id\u001b[49m\u001b[38;5;241;43m=\u001b[39;49m\u001b[38;5;124;43m\"\u001b[39;49m\u001b[38;5;124;43m123\u001b[39;49m\u001b[38;5;124;43m\"\u001b[39;49m\u001b[43m)\u001b[49m\n",
      "File \u001b[0;32m~/mydir/local-repository/playing-LLM/RAG/gemini_rag_memory.py:235\u001b[0m, in \u001b[0;36mGemini_RAG_Memory.ask\u001b[0;34m(self, prompt, session_id)\u001b[0m\n\u001b[1;32m    231\u001b[0m \u001b[38;5;28;01mdef\u001b[39;00m\u001b[38;5;250m \u001b[39m\u001b[38;5;21mask\u001b[39m(\u001b[38;5;28mself\u001b[39m, prompt: \u001b[38;5;28mstr\u001b[39m, session_id: \u001b[38;5;28mstr\u001b[39m) \u001b[38;5;241m-\u001b[39m\u001b[38;5;241m>\u001b[39m \u001b[38;5;28mstr\u001b[39m:\n\u001b[1;32m    232\u001b[0m \u001b[38;5;250m    \u001b[39m\u001b[38;5;124;03m\"\"\"\u001b[39;00m\n\u001b[1;32m    233\u001b[0m \u001b[38;5;124;03m    チャット履歴管理（RunnableWithMessageHistory）付きのQAを実行し、回答を返す\u001b[39;00m\n\u001b[1;32m    234\u001b[0m \u001b[38;5;124;03m    \"\"\"\u001b[39;00m\n\u001b[0;32m--> 235\u001b[0m     \u001b[38;5;28;01mreturn\u001b[39;00m \u001b[38;5;28;43mself\u001b[39;49m\u001b[38;5;241;43m.\u001b[39;49m\u001b[43mqa_with_history\u001b[49m\u001b[38;5;241;43m.\u001b[39;49m\u001b[43minvoke\u001b[49m\u001b[43m(\u001b[49m\n\u001b[1;32m    236\u001b[0m \u001b[43m        \u001b[49m\u001b[43m{\u001b[49m\u001b[38;5;124;43m\"\u001b[39;49m\u001b[38;5;124;43minput\u001b[39;49m\u001b[38;5;124;43m\"\u001b[39;49m\u001b[43m:\u001b[49m\u001b[43m \u001b[49m\u001b[43mprompt\u001b[49m\u001b[43m}\u001b[49m\u001b[43m,\u001b[49m\n\u001b[1;32m    237\u001b[0m \u001b[43m        \u001b[49m\u001b[43mconfig\u001b[49m\u001b[38;5;241;43m=\u001b[39;49m\u001b[43m{\u001b[49m\u001b[38;5;124;43m\"\u001b[39;49m\u001b[38;5;124;43mconfigurable\u001b[39;49m\u001b[38;5;124;43m\"\u001b[39;49m\u001b[43m:\u001b[49m\u001b[43m \u001b[49m\u001b[43m{\u001b[49m\u001b[38;5;124;43m\"\u001b[39;49m\u001b[38;5;124;43msession_id\u001b[39;49m\u001b[38;5;124;43m\"\u001b[39;49m\u001b[43m:\u001b[49m\u001b[43m \u001b[49m\u001b[43msession_id\u001b[49m\u001b[43m}\u001b[49m\u001b[43m}\u001b[49m\n\u001b[1;32m    238\u001b[0m \u001b[43m    \u001b[49m\u001b[43m)\u001b[49m\n",
      "File \u001b[0;32m~/mydir/local-repository/playing-LLM/.env_RAG/lib/python3.12/site-packages/langchain_core/runnables/base.py:5352\u001b[0m, in \u001b[0;36mRunnableBindingBase.invoke\u001b[0;34m(self, input, config, **kwargs)\u001b[0m\n\u001b[1;32m   5346\u001b[0m \u001b[38;5;28;01mdef\u001b[39;00m\u001b[38;5;250m \u001b[39m\u001b[38;5;21minvoke\u001b[39m(\n\u001b[1;32m   5347\u001b[0m     \u001b[38;5;28mself\u001b[39m,\n\u001b[1;32m   5348\u001b[0m     \u001b[38;5;28minput\u001b[39m: Input,\n\u001b[1;32m   5349\u001b[0m     config: Optional[RunnableConfig] \u001b[38;5;241m=\u001b[39m \u001b[38;5;28;01mNone\u001b[39;00m,\n\u001b[1;32m   5350\u001b[0m     \u001b[38;5;241m*\u001b[39m\u001b[38;5;241m*\u001b[39mkwargs: Optional[Any],\n\u001b[1;32m   5351\u001b[0m ) \u001b[38;5;241m-\u001b[39m\u001b[38;5;241m>\u001b[39m Output:\n\u001b[0;32m-> 5352\u001b[0m     \u001b[38;5;28;01mreturn\u001b[39;00m \u001b[38;5;28;43mself\u001b[39;49m\u001b[38;5;241;43m.\u001b[39;49m\u001b[43mbound\u001b[49m\u001b[38;5;241;43m.\u001b[39;49m\u001b[43minvoke\u001b[49m\u001b[43m(\u001b[49m\n\u001b[1;32m   5353\u001b[0m \u001b[43m        \u001b[49m\u001b[38;5;28;43minput\u001b[39;49m\u001b[43m,\u001b[49m\n\u001b[1;32m   5354\u001b[0m \u001b[43m        \u001b[49m\u001b[38;5;28;43mself\u001b[39;49m\u001b[38;5;241;43m.\u001b[39;49m\u001b[43m_merge_configs\u001b[49m\u001b[43m(\u001b[49m\u001b[43mconfig\u001b[49m\u001b[43m)\u001b[49m\u001b[43m,\u001b[49m\n\u001b[1;32m   5355\u001b[0m \u001b[43m        \u001b[49m\u001b[38;5;241;43m*\u001b[39;49m\u001b[38;5;241;43m*\u001b[39;49m\u001b[43m{\u001b[49m\u001b[38;5;241;43m*\u001b[39;49m\u001b[38;5;241;43m*\u001b[39;49m\u001b[38;5;28;43mself\u001b[39;49m\u001b[38;5;241;43m.\u001b[39;49m\u001b[43mkwargs\u001b[49m\u001b[43m,\u001b[49m\u001b[43m \u001b[49m\u001b[38;5;241;43m*\u001b[39;49m\u001b[38;5;241;43m*\u001b[39;49m\u001b[43mkwargs\u001b[49m\u001b[43m}\u001b[49m\u001b[43m,\u001b[49m\n\u001b[1;32m   5356\u001b[0m \u001b[43m    \u001b[49m\u001b[43m)\u001b[49m\n",
      "File \u001b[0;32m~/mydir/local-repository/playing-LLM/.env_RAG/lib/python3.12/site-packages/langchain_core/runnables/base.py:5352\u001b[0m, in \u001b[0;36mRunnableBindingBase.invoke\u001b[0;34m(self, input, config, **kwargs)\u001b[0m\n\u001b[1;32m   5346\u001b[0m \u001b[38;5;28;01mdef\u001b[39;00m\u001b[38;5;250m \u001b[39m\u001b[38;5;21minvoke\u001b[39m(\n\u001b[1;32m   5347\u001b[0m     \u001b[38;5;28mself\u001b[39m,\n\u001b[1;32m   5348\u001b[0m     \u001b[38;5;28minput\u001b[39m: Input,\n\u001b[1;32m   5349\u001b[0m     config: Optional[RunnableConfig] \u001b[38;5;241m=\u001b[39m \u001b[38;5;28;01mNone\u001b[39;00m,\n\u001b[1;32m   5350\u001b[0m     \u001b[38;5;241m*\u001b[39m\u001b[38;5;241m*\u001b[39mkwargs: Optional[Any],\n\u001b[1;32m   5351\u001b[0m ) \u001b[38;5;241m-\u001b[39m\u001b[38;5;241m>\u001b[39m Output:\n\u001b[0;32m-> 5352\u001b[0m     \u001b[38;5;28;01mreturn\u001b[39;00m \u001b[38;5;28;43mself\u001b[39;49m\u001b[38;5;241;43m.\u001b[39;49m\u001b[43mbound\u001b[49m\u001b[38;5;241;43m.\u001b[39;49m\u001b[43minvoke\u001b[49m\u001b[43m(\u001b[49m\n\u001b[1;32m   5353\u001b[0m \u001b[43m        \u001b[49m\u001b[38;5;28;43minput\u001b[39;49m\u001b[43m,\u001b[49m\n\u001b[1;32m   5354\u001b[0m \u001b[43m        \u001b[49m\u001b[38;5;28;43mself\u001b[39;49m\u001b[38;5;241;43m.\u001b[39;49m\u001b[43m_merge_configs\u001b[49m\u001b[43m(\u001b[49m\u001b[43mconfig\u001b[49m\u001b[43m)\u001b[49m\u001b[43m,\u001b[49m\n\u001b[1;32m   5355\u001b[0m \u001b[43m        \u001b[49m\u001b[38;5;241;43m*\u001b[39;49m\u001b[38;5;241;43m*\u001b[39;49m\u001b[43m{\u001b[49m\u001b[38;5;241;43m*\u001b[39;49m\u001b[38;5;241;43m*\u001b[39;49m\u001b[38;5;28;43mself\u001b[39;49m\u001b[38;5;241;43m.\u001b[39;49m\u001b[43mkwargs\u001b[49m\u001b[43m,\u001b[49m\u001b[43m \u001b[49m\u001b[38;5;241;43m*\u001b[39;49m\u001b[38;5;241;43m*\u001b[39;49m\u001b[43mkwargs\u001b[49m\u001b[43m}\u001b[49m\u001b[43m,\u001b[49m\n\u001b[1;32m   5356\u001b[0m \u001b[43m    \u001b[49m\u001b[43m)\u001b[49m\n",
      "File \u001b[0;32m~/mydir/local-repository/playing-LLM/.env_RAG/lib/python3.12/site-packages/langchain_core/runnables/base.py:3016\u001b[0m, in \u001b[0;36mRunnableSequence.invoke\u001b[0;34m(self, input, config, **kwargs)\u001b[0m\n\u001b[1;32m   3014\u001b[0m             \u001b[38;5;28minput\u001b[39m \u001b[38;5;241m=\u001b[39m context\u001b[38;5;241m.\u001b[39mrun(step\u001b[38;5;241m.\u001b[39minvoke, \u001b[38;5;28minput\u001b[39m, config, \u001b[38;5;241m*\u001b[39m\u001b[38;5;241m*\u001b[39mkwargs)\n\u001b[1;32m   3015\u001b[0m         \u001b[38;5;28;01melse\u001b[39;00m:\n\u001b[0;32m-> 3016\u001b[0m             \u001b[38;5;28minput\u001b[39m \u001b[38;5;241m=\u001b[39m \u001b[43mcontext\u001b[49m\u001b[38;5;241;43m.\u001b[39;49m\u001b[43mrun\u001b[49m\u001b[43m(\u001b[49m\u001b[43mstep\u001b[49m\u001b[38;5;241;43m.\u001b[39;49m\u001b[43minvoke\u001b[49m\u001b[43m,\u001b[49m\u001b[43m \u001b[49m\u001b[38;5;28;43minput\u001b[39;49m\u001b[43m,\u001b[49m\u001b[43m \u001b[49m\u001b[43mconfig\u001b[49m\u001b[43m)\u001b[49m\n\u001b[1;32m   3017\u001b[0m \u001b[38;5;66;03m# finish the root run\u001b[39;00m\n\u001b[1;32m   3018\u001b[0m \u001b[38;5;28;01mexcept\u001b[39;00m \u001b[38;5;167;01mBaseException\u001b[39;00m \u001b[38;5;28;01mas\u001b[39;00m e:\n",
      "File \u001b[0;32m~/mydir/local-repository/playing-LLM/.env_RAG/lib/python3.12/site-packages/langchain_core/runnables/base.py:5352\u001b[0m, in \u001b[0;36mRunnableBindingBase.invoke\u001b[0;34m(self, input, config, **kwargs)\u001b[0m\n\u001b[1;32m   5346\u001b[0m \u001b[38;5;28;01mdef\u001b[39;00m\u001b[38;5;250m \u001b[39m\u001b[38;5;21minvoke\u001b[39m(\n\u001b[1;32m   5347\u001b[0m     \u001b[38;5;28mself\u001b[39m,\n\u001b[1;32m   5348\u001b[0m     \u001b[38;5;28minput\u001b[39m: Input,\n\u001b[1;32m   5349\u001b[0m     config: Optional[RunnableConfig] \u001b[38;5;241m=\u001b[39m \u001b[38;5;28;01mNone\u001b[39;00m,\n\u001b[1;32m   5350\u001b[0m     \u001b[38;5;241m*\u001b[39m\u001b[38;5;241m*\u001b[39mkwargs: Optional[Any],\n\u001b[1;32m   5351\u001b[0m ) \u001b[38;5;241m-\u001b[39m\u001b[38;5;241m>\u001b[39m Output:\n\u001b[0;32m-> 5352\u001b[0m     \u001b[38;5;28;01mreturn\u001b[39;00m \u001b[38;5;28;43mself\u001b[39;49m\u001b[38;5;241;43m.\u001b[39;49m\u001b[43mbound\u001b[49m\u001b[38;5;241;43m.\u001b[39;49m\u001b[43minvoke\u001b[49m\u001b[43m(\u001b[49m\n\u001b[1;32m   5353\u001b[0m \u001b[43m        \u001b[49m\u001b[38;5;28;43minput\u001b[39;49m\u001b[43m,\u001b[49m\n\u001b[1;32m   5354\u001b[0m \u001b[43m        \u001b[49m\u001b[38;5;28;43mself\u001b[39;49m\u001b[38;5;241;43m.\u001b[39;49m\u001b[43m_merge_configs\u001b[49m\u001b[43m(\u001b[49m\u001b[43mconfig\u001b[49m\u001b[43m)\u001b[49m\u001b[43m,\u001b[49m\n\u001b[1;32m   5355\u001b[0m \u001b[43m        \u001b[49m\u001b[38;5;241;43m*\u001b[39;49m\u001b[38;5;241;43m*\u001b[39;49m\u001b[43m{\u001b[49m\u001b[38;5;241;43m*\u001b[39;49m\u001b[38;5;241;43m*\u001b[39;49m\u001b[38;5;28;43mself\u001b[39;49m\u001b[38;5;241;43m.\u001b[39;49m\u001b[43mkwargs\u001b[49m\u001b[43m,\u001b[49m\u001b[43m \u001b[49m\u001b[38;5;241;43m*\u001b[39;49m\u001b[38;5;241;43m*\u001b[39;49m\u001b[43mkwargs\u001b[49m\u001b[43m}\u001b[49m\u001b[43m,\u001b[49m\n\u001b[1;32m   5356\u001b[0m \u001b[43m    \u001b[49m\u001b[43m)\u001b[49m\n",
      "File \u001b[0;32m~/mydir/local-repository/playing-LLM/.env_RAG/lib/python3.12/site-packages/langchain_core/runnables/base.py:4713\u001b[0m, in \u001b[0;36mRunnableLambda.invoke\u001b[0;34m(self, input, config, **kwargs)\u001b[0m\n\u001b[1;32m   4699\u001b[0m \u001b[38;5;250m\u001b[39m\u001b[38;5;124;03m\"\"\"Invoke this Runnable synchronously.\u001b[39;00m\n\u001b[1;32m   4700\u001b[0m \n\u001b[1;32m   4701\u001b[0m \u001b[38;5;124;03mArgs:\u001b[39;00m\n\u001b[0;32m   (...)\u001b[0m\n\u001b[1;32m   4710\u001b[0m \u001b[38;5;124;03m    TypeError: If the Runnable is a coroutine function.\u001b[39;00m\n\u001b[1;32m   4711\u001b[0m \u001b[38;5;124;03m\"\"\"\u001b[39;00m\n\u001b[1;32m   4712\u001b[0m \u001b[38;5;28;01mif\u001b[39;00m \u001b[38;5;28mhasattr\u001b[39m(\u001b[38;5;28mself\u001b[39m, \u001b[38;5;124m\"\u001b[39m\u001b[38;5;124mfunc\u001b[39m\u001b[38;5;124m\"\u001b[39m):\n\u001b[0;32m-> 4713\u001b[0m     \u001b[38;5;28;01mreturn\u001b[39;00m \u001b[38;5;28;43mself\u001b[39;49m\u001b[38;5;241;43m.\u001b[39;49m\u001b[43m_call_with_config\u001b[49m\u001b[43m(\u001b[49m\n\u001b[1;32m   4714\u001b[0m \u001b[43m        \u001b[49m\u001b[38;5;28;43mself\u001b[39;49m\u001b[38;5;241;43m.\u001b[39;49m\u001b[43m_invoke\u001b[49m\u001b[43m,\u001b[49m\n\u001b[1;32m   4715\u001b[0m \u001b[43m        \u001b[49m\u001b[38;5;28;43minput\u001b[39;49m\u001b[43m,\u001b[49m\n\u001b[1;32m   4716\u001b[0m \u001b[43m        \u001b[49m\u001b[38;5;28;43mself\u001b[39;49m\u001b[38;5;241;43m.\u001b[39;49m\u001b[43m_config\u001b[49m\u001b[43m(\u001b[49m\u001b[43mconfig\u001b[49m\u001b[43m,\u001b[49m\u001b[43m \u001b[49m\u001b[38;5;28;43mself\u001b[39;49m\u001b[38;5;241;43m.\u001b[39;49m\u001b[43mfunc\u001b[49m\u001b[43m)\u001b[49m\u001b[43m,\u001b[49m\n\u001b[1;32m   4717\u001b[0m \u001b[43m        \u001b[49m\u001b[38;5;241;43m*\u001b[39;49m\u001b[38;5;241;43m*\u001b[39;49m\u001b[43mkwargs\u001b[49m\u001b[43m,\u001b[49m\n\u001b[1;32m   4718\u001b[0m \u001b[43m    \u001b[49m\u001b[43m)\u001b[49m\n\u001b[1;32m   4719\u001b[0m \u001b[38;5;28;01melse\u001b[39;00m:\n\u001b[1;32m   4720\u001b[0m     msg \u001b[38;5;241m=\u001b[39m (\n\u001b[1;32m   4721\u001b[0m         \u001b[38;5;124m\"\u001b[39m\u001b[38;5;124mCannot invoke a coroutine function synchronously.\u001b[39m\u001b[38;5;124m\"\u001b[39m\n\u001b[1;32m   4722\u001b[0m         \u001b[38;5;124m\"\u001b[39m\u001b[38;5;124mUse `ainvoke` instead.\u001b[39m\u001b[38;5;124m\"\u001b[39m\n\u001b[1;32m   4723\u001b[0m     )\n",
      "File \u001b[0;32m~/mydir/local-repository/playing-LLM/.env_RAG/lib/python3.12/site-packages/langchain_core/runnables/base.py:1914\u001b[0m, in \u001b[0;36mRunnable._call_with_config\u001b[0;34m(self, func, input, config, run_type, serialized, **kwargs)\u001b[0m\n\u001b[1;32m   1910\u001b[0m     context \u001b[38;5;241m=\u001b[39m copy_context()\n\u001b[1;32m   1911\u001b[0m     context\u001b[38;5;241m.\u001b[39mrun(_set_config_context, child_config)\n\u001b[1;32m   1912\u001b[0m     output \u001b[38;5;241m=\u001b[39m cast(\n\u001b[1;32m   1913\u001b[0m         Output,\n\u001b[0;32m-> 1914\u001b[0m         \u001b[43mcontext\u001b[49m\u001b[38;5;241;43m.\u001b[39;49m\u001b[43mrun\u001b[49m\u001b[43m(\u001b[49m\n\u001b[1;32m   1915\u001b[0m \u001b[43m            \u001b[49m\u001b[43mcall_func_with_variable_args\u001b[49m\u001b[43m,\u001b[49m\u001b[43m  \u001b[49m\u001b[38;5;66;43;03m# type: ignore[arg-type]\u001b[39;49;00m\n\u001b[1;32m   1916\u001b[0m \u001b[43m            \u001b[49m\u001b[43mfunc\u001b[49m\u001b[43m,\u001b[49m\u001b[43m  \u001b[49m\u001b[38;5;66;43;03m# type: ignore[arg-type]\u001b[39;49;00m\n\u001b[1;32m   1917\u001b[0m \u001b[43m            \u001b[49m\u001b[38;5;28;43minput\u001b[39;49m\u001b[43m,\u001b[49m\u001b[43m  \u001b[49m\u001b[38;5;66;43;03m# type: ignore[arg-type]\u001b[39;49;00m\n\u001b[1;32m   1918\u001b[0m \u001b[43m            \u001b[49m\u001b[43mconfig\u001b[49m\u001b[43m,\u001b[49m\n\u001b[1;32m   1919\u001b[0m \u001b[43m            \u001b[49m\u001b[43mrun_manager\u001b[49m\u001b[43m,\u001b[49m\n\u001b[1;32m   1920\u001b[0m \u001b[43m            \u001b[49m\u001b[38;5;241;43m*\u001b[39;49m\u001b[38;5;241;43m*\u001b[39;49m\u001b[43mkwargs\u001b[49m\u001b[43m,\u001b[49m\n\u001b[1;32m   1921\u001b[0m \u001b[43m        \u001b[49m\u001b[43m)\u001b[49m,\n\u001b[1;32m   1922\u001b[0m     )\n\u001b[1;32m   1923\u001b[0m \u001b[38;5;28;01mexcept\u001b[39;00m \u001b[38;5;167;01mBaseException\u001b[39;00m \u001b[38;5;28;01mas\u001b[39;00m e:\n\u001b[1;32m   1924\u001b[0m     run_manager\u001b[38;5;241m.\u001b[39mon_chain_error(e)\n",
      "File \u001b[0;32m~/mydir/local-repository/playing-LLM/.env_RAG/lib/python3.12/site-packages/langchain_core/runnables/config.py:396\u001b[0m, in \u001b[0;36mcall_func_with_variable_args\u001b[0;34m(func, input, config, run_manager, **kwargs)\u001b[0m\n\u001b[1;32m    394\u001b[0m \u001b[38;5;28;01mif\u001b[39;00m run_manager \u001b[38;5;129;01mis\u001b[39;00m \u001b[38;5;129;01mnot\u001b[39;00m \u001b[38;5;28;01mNone\u001b[39;00m \u001b[38;5;129;01mand\u001b[39;00m accepts_run_manager(func):\n\u001b[1;32m    395\u001b[0m     kwargs[\u001b[38;5;124m\"\u001b[39m\u001b[38;5;124mrun_manager\u001b[39m\u001b[38;5;124m\"\u001b[39m] \u001b[38;5;241m=\u001b[39m run_manager\n\u001b[0;32m--> 396\u001b[0m \u001b[38;5;28;01mreturn\u001b[39;00m \u001b[43mfunc\u001b[49m\u001b[43m(\u001b[49m\u001b[38;5;28;43minput\u001b[39;49m\u001b[43m,\u001b[49m\u001b[43m \u001b[49m\u001b[38;5;241;43m*\u001b[39;49m\u001b[38;5;241;43m*\u001b[39;49m\u001b[43mkwargs\u001b[49m\u001b[43m)\u001b[49m\n",
      "File \u001b[0;32m~/mydir/local-repository/playing-LLM/.env_RAG/lib/python3.12/site-packages/langchain_core/runnables/base.py:4578\u001b[0m, in \u001b[0;36mRunnableLambda._invoke\u001b[0;34m(self, input, run_manager, config, **kwargs)\u001b[0m\n\u001b[1;32m   4574\u001b[0m         msg \u001b[38;5;241m=\u001b[39m (\n\u001b[1;32m   4575\u001b[0m             \u001b[38;5;124mf\u001b[39m\u001b[38;5;124m\"\u001b[39m\u001b[38;5;124mRecursion limit reached when invoking \u001b[39m\u001b[38;5;132;01m{\u001b[39;00m\u001b[38;5;28mself\u001b[39m\u001b[38;5;132;01m}\u001b[39;00m\u001b[38;5;124m with input \u001b[39m\u001b[38;5;132;01m{\u001b[39;00m\u001b[38;5;28minput\u001b[39m\u001b[38;5;132;01m}\u001b[39;00m\u001b[38;5;124m.\u001b[39m\u001b[38;5;124m\"\u001b[39m\n\u001b[1;32m   4576\u001b[0m         )\n\u001b[1;32m   4577\u001b[0m         \u001b[38;5;28;01mraise\u001b[39;00m \u001b[38;5;167;01mRecursionError\u001b[39;00m(msg)\n\u001b[0;32m-> 4578\u001b[0m     output \u001b[38;5;241m=\u001b[39m \u001b[43moutput\u001b[49m\u001b[38;5;241;43m.\u001b[39;49m\u001b[43minvoke\u001b[49m\u001b[43m(\u001b[49m\n\u001b[1;32m   4579\u001b[0m \u001b[43m        \u001b[49m\u001b[38;5;28;43minput\u001b[39;49m\u001b[43m,\u001b[49m\n\u001b[1;32m   4580\u001b[0m \u001b[43m        \u001b[49m\u001b[43mpatch_config\u001b[49m\u001b[43m(\u001b[49m\n\u001b[1;32m   4581\u001b[0m \u001b[43m            \u001b[49m\u001b[43mconfig\u001b[49m\u001b[43m,\u001b[49m\n\u001b[1;32m   4582\u001b[0m \u001b[43m            \u001b[49m\u001b[43mcallbacks\u001b[49m\u001b[38;5;241;43m=\u001b[39;49m\u001b[43mrun_manager\u001b[49m\u001b[38;5;241;43m.\u001b[39;49m\u001b[43mget_child\u001b[49m\u001b[43m(\u001b[49m\u001b[43m)\u001b[49m\u001b[43m,\u001b[49m\n\u001b[1;32m   4583\u001b[0m \u001b[43m            \u001b[49m\u001b[43mrecursion_limit\u001b[49m\u001b[38;5;241;43m=\u001b[39;49m\u001b[43mrecursion_limit\u001b[49m\u001b[43m \u001b[49m\u001b[38;5;241;43m-\u001b[39;49m\u001b[43m \u001b[49m\u001b[38;5;241;43m1\u001b[39;49m\u001b[43m,\u001b[49m\n\u001b[1;32m   4584\u001b[0m \u001b[43m        \u001b[49m\u001b[43m)\u001b[49m\u001b[43m,\u001b[49m\n\u001b[1;32m   4585\u001b[0m \u001b[43m    \u001b[49m\u001b[43m)\u001b[49m\n\u001b[1;32m   4586\u001b[0m \u001b[38;5;28;01mreturn\u001b[39;00m cast(Output, output)\n",
      "File \u001b[0;32m~/mydir/local-repository/playing-LLM/.env_RAG/lib/python3.12/site-packages/langchain_core/runnables/base.py:5352\u001b[0m, in \u001b[0;36mRunnableBindingBase.invoke\u001b[0;34m(self, input, config, **kwargs)\u001b[0m\n\u001b[1;32m   5346\u001b[0m \u001b[38;5;28;01mdef\u001b[39;00m\u001b[38;5;250m \u001b[39m\u001b[38;5;21minvoke\u001b[39m(\n\u001b[1;32m   5347\u001b[0m     \u001b[38;5;28mself\u001b[39m,\n\u001b[1;32m   5348\u001b[0m     \u001b[38;5;28minput\u001b[39m: Input,\n\u001b[1;32m   5349\u001b[0m     config: Optional[RunnableConfig] \u001b[38;5;241m=\u001b[39m \u001b[38;5;28;01mNone\u001b[39;00m,\n\u001b[1;32m   5350\u001b[0m     \u001b[38;5;241m*\u001b[39m\u001b[38;5;241m*\u001b[39mkwargs: Optional[Any],\n\u001b[1;32m   5351\u001b[0m ) \u001b[38;5;241m-\u001b[39m\u001b[38;5;241m>\u001b[39m Output:\n\u001b[0;32m-> 5352\u001b[0m     \u001b[38;5;28;01mreturn\u001b[39;00m \u001b[38;5;28;43mself\u001b[39;49m\u001b[38;5;241;43m.\u001b[39;49m\u001b[43mbound\u001b[49m\u001b[38;5;241;43m.\u001b[39;49m\u001b[43minvoke\u001b[49m\u001b[43m(\u001b[49m\n\u001b[1;32m   5353\u001b[0m \u001b[43m        \u001b[49m\u001b[38;5;28;43minput\u001b[39;49m\u001b[43m,\u001b[49m\n\u001b[1;32m   5354\u001b[0m \u001b[43m        \u001b[49m\u001b[38;5;28;43mself\u001b[39;49m\u001b[38;5;241;43m.\u001b[39;49m\u001b[43m_merge_configs\u001b[49m\u001b[43m(\u001b[49m\u001b[43mconfig\u001b[49m\u001b[43m)\u001b[49m\u001b[43m,\u001b[49m\n\u001b[1;32m   5355\u001b[0m \u001b[43m        \u001b[49m\u001b[38;5;241;43m*\u001b[39;49m\u001b[38;5;241;43m*\u001b[39;49m\u001b[43m{\u001b[49m\u001b[38;5;241;43m*\u001b[39;49m\u001b[38;5;241;43m*\u001b[39;49m\u001b[38;5;28;43mself\u001b[39;49m\u001b[38;5;241;43m.\u001b[39;49m\u001b[43mkwargs\u001b[49m\u001b[43m,\u001b[49m\u001b[43m \u001b[49m\u001b[38;5;241;43m*\u001b[39;49m\u001b[38;5;241;43m*\u001b[39;49m\u001b[43mkwargs\u001b[49m\u001b[43m}\u001b[49m\u001b[43m,\u001b[49m\n\u001b[1;32m   5356\u001b[0m \u001b[43m    \u001b[49m\u001b[43m)\u001b[49m\n",
      "File \u001b[0;32m~/mydir/local-repository/playing-LLM/.env_RAG/lib/python3.12/site-packages/langchain_core/runnables/base.py:4713\u001b[0m, in \u001b[0;36mRunnableLambda.invoke\u001b[0;34m(self, input, config, **kwargs)\u001b[0m\n\u001b[1;32m   4699\u001b[0m \u001b[38;5;250m\u001b[39m\u001b[38;5;124;03m\"\"\"Invoke this Runnable synchronously.\u001b[39;00m\n\u001b[1;32m   4700\u001b[0m \n\u001b[1;32m   4701\u001b[0m \u001b[38;5;124;03mArgs:\u001b[39;00m\n\u001b[0;32m   (...)\u001b[0m\n\u001b[1;32m   4710\u001b[0m \u001b[38;5;124;03m    TypeError: If the Runnable is a coroutine function.\u001b[39;00m\n\u001b[1;32m   4711\u001b[0m \u001b[38;5;124;03m\"\"\"\u001b[39;00m\n\u001b[1;32m   4712\u001b[0m \u001b[38;5;28;01mif\u001b[39;00m \u001b[38;5;28mhasattr\u001b[39m(\u001b[38;5;28mself\u001b[39m, \u001b[38;5;124m\"\u001b[39m\u001b[38;5;124mfunc\u001b[39m\u001b[38;5;124m\"\u001b[39m):\n\u001b[0;32m-> 4713\u001b[0m     \u001b[38;5;28;01mreturn\u001b[39;00m \u001b[38;5;28;43mself\u001b[39;49m\u001b[38;5;241;43m.\u001b[39;49m\u001b[43m_call_with_config\u001b[49m\u001b[43m(\u001b[49m\n\u001b[1;32m   4714\u001b[0m \u001b[43m        \u001b[49m\u001b[38;5;28;43mself\u001b[39;49m\u001b[38;5;241;43m.\u001b[39;49m\u001b[43m_invoke\u001b[49m\u001b[43m,\u001b[49m\n\u001b[1;32m   4715\u001b[0m \u001b[43m        \u001b[49m\u001b[38;5;28;43minput\u001b[39;49m\u001b[43m,\u001b[49m\n\u001b[1;32m   4716\u001b[0m \u001b[43m        \u001b[49m\u001b[38;5;28;43mself\u001b[39;49m\u001b[38;5;241;43m.\u001b[39;49m\u001b[43m_config\u001b[49m\u001b[43m(\u001b[49m\u001b[43mconfig\u001b[49m\u001b[43m,\u001b[49m\u001b[43m \u001b[49m\u001b[38;5;28;43mself\u001b[39;49m\u001b[38;5;241;43m.\u001b[39;49m\u001b[43mfunc\u001b[49m\u001b[43m)\u001b[49m\u001b[43m,\u001b[49m\n\u001b[1;32m   4717\u001b[0m \u001b[43m        \u001b[49m\u001b[38;5;241;43m*\u001b[39;49m\u001b[38;5;241;43m*\u001b[39;49m\u001b[43mkwargs\u001b[49m\u001b[43m,\u001b[49m\n\u001b[1;32m   4718\u001b[0m \u001b[43m    \u001b[49m\u001b[43m)\u001b[49m\n\u001b[1;32m   4719\u001b[0m \u001b[38;5;28;01melse\u001b[39;00m:\n\u001b[1;32m   4720\u001b[0m     msg \u001b[38;5;241m=\u001b[39m (\n\u001b[1;32m   4721\u001b[0m         \u001b[38;5;124m\"\u001b[39m\u001b[38;5;124mCannot invoke a coroutine function synchronously.\u001b[39m\u001b[38;5;124m\"\u001b[39m\n\u001b[1;32m   4722\u001b[0m         \u001b[38;5;124m\"\u001b[39m\u001b[38;5;124mUse `ainvoke` instead.\u001b[39m\u001b[38;5;124m\"\u001b[39m\n\u001b[1;32m   4723\u001b[0m     )\n",
      "File \u001b[0;32m~/mydir/local-repository/playing-LLM/.env_RAG/lib/python3.12/site-packages/langchain_core/runnables/base.py:1914\u001b[0m, in \u001b[0;36mRunnable._call_with_config\u001b[0;34m(self, func, input, config, run_type, serialized, **kwargs)\u001b[0m\n\u001b[1;32m   1910\u001b[0m     context \u001b[38;5;241m=\u001b[39m copy_context()\n\u001b[1;32m   1911\u001b[0m     context\u001b[38;5;241m.\u001b[39mrun(_set_config_context, child_config)\n\u001b[1;32m   1912\u001b[0m     output \u001b[38;5;241m=\u001b[39m cast(\n\u001b[1;32m   1913\u001b[0m         Output,\n\u001b[0;32m-> 1914\u001b[0m         \u001b[43mcontext\u001b[49m\u001b[38;5;241;43m.\u001b[39;49m\u001b[43mrun\u001b[49m\u001b[43m(\u001b[49m\n\u001b[1;32m   1915\u001b[0m \u001b[43m            \u001b[49m\u001b[43mcall_func_with_variable_args\u001b[49m\u001b[43m,\u001b[49m\u001b[43m  \u001b[49m\u001b[38;5;66;43;03m# type: ignore[arg-type]\u001b[39;49;00m\n\u001b[1;32m   1916\u001b[0m \u001b[43m            \u001b[49m\u001b[43mfunc\u001b[49m\u001b[43m,\u001b[49m\u001b[43m  \u001b[49m\u001b[38;5;66;43;03m# type: ignore[arg-type]\u001b[39;49;00m\n\u001b[1;32m   1917\u001b[0m \u001b[43m            \u001b[49m\u001b[38;5;28;43minput\u001b[39;49m\u001b[43m,\u001b[49m\u001b[43m  \u001b[49m\u001b[38;5;66;43;03m# type: ignore[arg-type]\u001b[39;49;00m\n\u001b[1;32m   1918\u001b[0m \u001b[43m            \u001b[49m\u001b[43mconfig\u001b[49m\u001b[43m,\u001b[49m\n\u001b[1;32m   1919\u001b[0m \u001b[43m            \u001b[49m\u001b[43mrun_manager\u001b[49m\u001b[43m,\u001b[49m\n\u001b[1;32m   1920\u001b[0m \u001b[43m            \u001b[49m\u001b[38;5;241;43m*\u001b[39;49m\u001b[38;5;241;43m*\u001b[39;49m\u001b[43mkwargs\u001b[49m\u001b[43m,\u001b[49m\n\u001b[1;32m   1921\u001b[0m \u001b[43m        \u001b[49m\u001b[43m)\u001b[49m,\n\u001b[1;32m   1922\u001b[0m     )\n\u001b[1;32m   1923\u001b[0m \u001b[38;5;28;01mexcept\u001b[39;00m \u001b[38;5;167;01mBaseException\u001b[39;00m \u001b[38;5;28;01mas\u001b[39;00m e:\n\u001b[1;32m   1924\u001b[0m     run_manager\u001b[38;5;241m.\u001b[39mon_chain_error(e)\n",
      "File \u001b[0;32m~/mydir/local-repository/playing-LLM/.env_RAG/lib/python3.12/site-packages/langchain_core/runnables/config.py:396\u001b[0m, in \u001b[0;36mcall_func_with_variable_args\u001b[0;34m(func, input, config, run_manager, **kwargs)\u001b[0m\n\u001b[1;32m    394\u001b[0m \u001b[38;5;28;01mif\u001b[39;00m run_manager \u001b[38;5;129;01mis\u001b[39;00m \u001b[38;5;129;01mnot\u001b[39;00m \u001b[38;5;28;01mNone\u001b[39;00m \u001b[38;5;129;01mand\u001b[39;00m accepts_run_manager(func):\n\u001b[1;32m    395\u001b[0m     kwargs[\u001b[38;5;124m\"\u001b[39m\u001b[38;5;124mrun_manager\u001b[39m\u001b[38;5;124m\"\u001b[39m] \u001b[38;5;241m=\u001b[39m run_manager\n\u001b[0;32m--> 396\u001b[0m \u001b[38;5;28;01mreturn\u001b[39;00m \u001b[43mfunc\u001b[49m\u001b[43m(\u001b[49m\u001b[38;5;28;43minput\u001b[39;49m\u001b[43m,\u001b[49m\u001b[43m \u001b[49m\u001b[38;5;241;43m*\u001b[39;49m\u001b[38;5;241;43m*\u001b[39;49m\u001b[43mkwargs\u001b[49m\u001b[43m)\u001b[49m\n",
      "File \u001b[0;32m~/mydir/local-repository/playing-LLM/.env_RAG/lib/python3.12/site-packages/langchain_core/runnables/base.py:4567\u001b[0m, in \u001b[0;36mRunnableLambda._invoke\u001b[0;34m(self, input, run_manager, config, **kwargs)\u001b[0m\n\u001b[1;32m   4565\u001b[0m                 output \u001b[38;5;241m=\u001b[39m chunk\n\u001b[1;32m   4566\u001b[0m \u001b[38;5;28;01melse\u001b[39;00m:\n\u001b[0;32m-> 4567\u001b[0m     output \u001b[38;5;241m=\u001b[39m \u001b[43mcall_func_with_variable_args\u001b[49m\u001b[43m(\u001b[49m\n\u001b[1;32m   4568\u001b[0m \u001b[43m        \u001b[49m\u001b[38;5;28;43mself\u001b[39;49m\u001b[38;5;241;43m.\u001b[39;49m\u001b[43mfunc\u001b[49m\u001b[43m,\u001b[49m\u001b[43m \u001b[49m\u001b[38;5;28;43minput\u001b[39;49m\u001b[43m,\u001b[49m\u001b[43m \u001b[49m\u001b[43mconfig\u001b[49m\u001b[43m,\u001b[49m\u001b[43m \u001b[49m\u001b[43mrun_manager\u001b[49m\u001b[43m,\u001b[49m\u001b[43m \u001b[49m\u001b[38;5;241;43m*\u001b[39;49m\u001b[38;5;241;43m*\u001b[39;49m\u001b[43mkwargs\u001b[49m\n\u001b[1;32m   4569\u001b[0m \u001b[43m    \u001b[49m\u001b[43m)\u001b[49m\n\u001b[1;32m   4570\u001b[0m \u001b[38;5;66;03m# If the output is a Runnable, invoke it\u001b[39;00m\n\u001b[1;32m   4571\u001b[0m \u001b[38;5;28;01mif\u001b[39;00m \u001b[38;5;28misinstance\u001b[39m(output, Runnable):\n",
      "File \u001b[0;32m~/mydir/local-repository/playing-LLM/.env_RAG/lib/python3.12/site-packages/langchain_core/runnables/config.py:396\u001b[0m, in \u001b[0;36mcall_func_with_variable_args\u001b[0;34m(func, input, config, run_manager, **kwargs)\u001b[0m\n\u001b[1;32m    394\u001b[0m \u001b[38;5;28;01mif\u001b[39;00m run_manager \u001b[38;5;129;01mis\u001b[39;00m \u001b[38;5;129;01mnot\u001b[39;00m \u001b[38;5;28;01mNone\u001b[39;00m \u001b[38;5;129;01mand\u001b[39;00m accepts_run_manager(func):\n\u001b[1;32m    395\u001b[0m     kwargs[\u001b[38;5;124m\"\u001b[39m\u001b[38;5;124mrun_manager\u001b[39m\u001b[38;5;124m\"\u001b[39m] \u001b[38;5;241m=\u001b[39m run_manager\n\u001b[0;32m--> 396\u001b[0m \u001b[38;5;28;01mreturn\u001b[39;00m \u001b[43mfunc\u001b[49m\u001b[43m(\u001b[49m\u001b[38;5;28;43minput\u001b[39;49m\u001b[43m,\u001b[49m\u001b[43m \u001b[49m\u001b[38;5;241;43m*\u001b[39;49m\u001b[38;5;241;43m*\u001b[39;49m\u001b[43mkwargs\u001b[49m\u001b[43m)\u001b[49m\n",
      "File \u001b[0;32m~/mydir/local-repository/playing-LLM/RAG/gemini_rag_memory.py:214\u001b[0m, in \u001b[0;36mGemini_RAG_Memory._preparation_run.<locals>.wrapper_for_chain\u001b[0;34m(input_)\u001b[0m\n\u001b[1;32m    208\u001b[0m \u001b[38;5;129m@chain\u001b[39m\n\u001b[1;32m    209\u001b[0m \u001b[38;5;28;01mdef\u001b[39;00m\u001b[38;5;250m \u001b[39m\u001b[38;5;21mwrapper_for_chain\u001b[39m(input_: \u001b[38;5;28mdict\u001b[39m):\n\u001b[1;32m    210\u001b[0m \u001b[38;5;250m    \u001b[39m\u001b[38;5;124;03m\"\"\"\u001b[39;00m\n\u001b[1;32m    211\u001b[0m \u001b[38;5;124;03m    _history_aware_qa を呼び出すためのラッパ関数\u001b[39;00m\n\u001b[1;32m    212\u001b[0m \u001b[38;5;124;03m    （@chain では引数が1つの関数を想定するため）\u001b[39;00m\n\u001b[1;32m    213\u001b[0m \u001b[38;5;124;03m    \"\"\"\u001b[39;00m\n\u001b[0;32m--> 214\u001b[0m     \u001b[38;5;28;01mreturn\u001b[39;00m \u001b[38;5;28;43mself\u001b[39;49m\u001b[38;5;241;43m.\u001b[39;49m\u001b[43m_history_aware_qa\u001b[49m\u001b[43m(\u001b[49m\u001b[43minput_\u001b[49m\u001b[43m)\u001b[49m\n",
      "File \u001b[0;32m~/mydir/local-repository/playing-LLM/RAG/gemini_rag_memory.py:197\u001b[0m, in \u001b[0;36mGemini_RAG_Memory._history_aware_qa\u001b[0;34m(self, input_)\u001b[0m\n\u001b[1;32m    194\u001b[0m \u001b[38;5;28mprint\u001b[39m(\u001b[38;5;124m\"\u001b[39m\u001b[38;5;124mcontext:\u001b[39m\u001b[38;5;124m\"\u001b[39m, context)\n\u001b[1;32m    196\u001b[0m \u001b[38;5;66;03m# QAチェーンへ\u001b[39;00m\n\u001b[0;32m--> 197\u001b[0m \u001b[38;5;28;01mreturn\u001b[39;00m \u001b[38;5;28;43mself\u001b[39;49m\u001b[38;5;241;43m.\u001b[39;49m\u001b[43mqa_chain\u001b[49m\u001b[38;5;241;43m.\u001b[39;49m\u001b[43minvoke\u001b[49m\u001b[43m(\u001b[49m\u001b[43m{\u001b[49m\n\u001b[1;32m    198\u001b[0m \u001b[43m    \u001b[49m\u001b[38;5;241;43m*\u001b[39;49m\u001b[38;5;241;43m*\u001b[39;49m\u001b[43minput_\u001b[49m\u001b[43m,\u001b[49m\n\u001b[1;32m    199\u001b[0m \u001b[43m    \u001b[49m\u001b[38;5;124;43m\"\u001b[39;49m\u001b[38;5;124;43mcontext\u001b[39;49m\u001b[38;5;124;43m\"\u001b[39;49m\u001b[43m:\u001b[49m\u001b[43m \u001b[49m\u001b[43mcontext\u001b[49m\u001b[43m,\u001b[49m\n\u001b[1;32m    200\u001b[0m \u001b[43m\u001b[49m\u001b[43m}\u001b[49m\u001b[43m)\u001b[49m\n",
      "File \u001b[0;32m~/mydir/local-repository/playing-LLM/.env_RAG/lib/python3.12/site-packages/langchain_core/runnables/base.py:3016\u001b[0m, in \u001b[0;36mRunnableSequence.invoke\u001b[0;34m(self, input, config, **kwargs)\u001b[0m\n\u001b[1;32m   3014\u001b[0m             \u001b[38;5;28minput\u001b[39m \u001b[38;5;241m=\u001b[39m context\u001b[38;5;241m.\u001b[39mrun(step\u001b[38;5;241m.\u001b[39minvoke, \u001b[38;5;28minput\u001b[39m, config, \u001b[38;5;241m*\u001b[39m\u001b[38;5;241m*\u001b[39mkwargs)\n\u001b[1;32m   3015\u001b[0m         \u001b[38;5;28;01melse\u001b[39;00m:\n\u001b[0;32m-> 3016\u001b[0m             \u001b[38;5;28minput\u001b[39m \u001b[38;5;241m=\u001b[39m \u001b[43mcontext\u001b[49m\u001b[38;5;241;43m.\u001b[39;49m\u001b[43mrun\u001b[49m\u001b[43m(\u001b[49m\u001b[43mstep\u001b[49m\u001b[38;5;241;43m.\u001b[39;49m\u001b[43minvoke\u001b[49m\u001b[43m,\u001b[49m\u001b[43m \u001b[49m\u001b[38;5;28;43minput\u001b[39;49m\u001b[43m,\u001b[49m\u001b[43m \u001b[49m\u001b[43mconfig\u001b[49m\u001b[43m)\u001b[49m\n\u001b[1;32m   3017\u001b[0m \u001b[38;5;66;03m# finish the root run\u001b[39;00m\n\u001b[1;32m   3018\u001b[0m \u001b[38;5;28;01mexcept\u001b[39;00m \u001b[38;5;167;01mBaseException\u001b[39;00m \u001b[38;5;28;01mas\u001b[39;00m e:\n",
      "File \u001b[0;32m~/mydir/local-repository/playing-LLM/.env_RAG/lib/python3.12/site-packages/langchain_core/prompts/base.py:210\u001b[0m, in \u001b[0;36mBasePromptTemplate.invoke\u001b[0;34m(self, input, config, **kwargs)\u001b[0m\n\u001b[1;32m    208\u001b[0m \u001b[38;5;28;01mif\u001b[39;00m \u001b[38;5;28mself\u001b[39m\u001b[38;5;241m.\u001b[39mtags:\n\u001b[1;32m    209\u001b[0m     config[\u001b[38;5;124m\"\u001b[39m\u001b[38;5;124mtags\u001b[39m\u001b[38;5;124m\"\u001b[39m] \u001b[38;5;241m=\u001b[39m config[\u001b[38;5;124m\"\u001b[39m\u001b[38;5;124mtags\u001b[39m\u001b[38;5;124m\"\u001b[39m] \u001b[38;5;241m+\u001b[39m \u001b[38;5;28mself\u001b[39m\u001b[38;5;241m.\u001b[39mtags\n\u001b[0;32m--> 210\u001b[0m \u001b[38;5;28;01mreturn\u001b[39;00m \u001b[38;5;28;43mself\u001b[39;49m\u001b[38;5;241;43m.\u001b[39;49m\u001b[43m_call_with_config\u001b[49m\u001b[43m(\u001b[49m\n\u001b[1;32m    211\u001b[0m \u001b[43m    \u001b[49m\u001b[38;5;28;43mself\u001b[39;49m\u001b[38;5;241;43m.\u001b[39;49m\u001b[43m_format_prompt_with_error_handling\u001b[49m\u001b[43m,\u001b[49m\n\u001b[1;32m    212\u001b[0m \u001b[43m    \u001b[49m\u001b[38;5;28;43minput\u001b[39;49m\u001b[43m,\u001b[49m\n\u001b[1;32m    213\u001b[0m \u001b[43m    \u001b[49m\u001b[43mconfig\u001b[49m\u001b[43m,\u001b[49m\n\u001b[1;32m    214\u001b[0m \u001b[43m    \u001b[49m\u001b[43mrun_type\u001b[49m\u001b[38;5;241;43m=\u001b[39;49m\u001b[38;5;124;43m\"\u001b[39;49m\u001b[38;5;124;43mprompt\u001b[39;49m\u001b[38;5;124;43m\"\u001b[39;49m\u001b[43m,\u001b[49m\n\u001b[1;32m    215\u001b[0m \u001b[43m    \u001b[49m\u001b[43mserialized\u001b[49m\u001b[38;5;241;43m=\u001b[39;49m\u001b[38;5;28;43mself\u001b[39;49m\u001b[38;5;241;43m.\u001b[39;49m\u001b[43m_serialized\u001b[49m\u001b[43m,\u001b[49m\n\u001b[1;32m    216\u001b[0m \u001b[43m\u001b[49m\u001b[43m)\u001b[49m\n",
      "File \u001b[0;32m~/mydir/local-repository/playing-LLM/.env_RAG/lib/python3.12/site-packages/langchain_core/runnables/base.py:1914\u001b[0m, in \u001b[0;36mRunnable._call_with_config\u001b[0;34m(self, func, input, config, run_type, serialized, **kwargs)\u001b[0m\n\u001b[1;32m   1910\u001b[0m     context \u001b[38;5;241m=\u001b[39m copy_context()\n\u001b[1;32m   1911\u001b[0m     context\u001b[38;5;241m.\u001b[39mrun(_set_config_context, child_config)\n\u001b[1;32m   1912\u001b[0m     output \u001b[38;5;241m=\u001b[39m cast(\n\u001b[1;32m   1913\u001b[0m         Output,\n\u001b[0;32m-> 1914\u001b[0m         \u001b[43mcontext\u001b[49m\u001b[38;5;241;43m.\u001b[39;49m\u001b[43mrun\u001b[49m\u001b[43m(\u001b[49m\n\u001b[1;32m   1915\u001b[0m \u001b[43m            \u001b[49m\u001b[43mcall_func_with_variable_args\u001b[49m\u001b[43m,\u001b[49m\u001b[43m  \u001b[49m\u001b[38;5;66;43;03m# type: ignore[arg-type]\u001b[39;49;00m\n\u001b[1;32m   1916\u001b[0m \u001b[43m            \u001b[49m\u001b[43mfunc\u001b[49m\u001b[43m,\u001b[49m\u001b[43m  \u001b[49m\u001b[38;5;66;43;03m# type: ignore[arg-type]\u001b[39;49;00m\n\u001b[1;32m   1917\u001b[0m \u001b[43m            \u001b[49m\u001b[38;5;28;43minput\u001b[39;49m\u001b[43m,\u001b[49m\u001b[43m  \u001b[49m\u001b[38;5;66;43;03m# type: ignore[arg-type]\u001b[39;49;00m\n\u001b[1;32m   1918\u001b[0m \u001b[43m            \u001b[49m\u001b[43mconfig\u001b[49m\u001b[43m,\u001b[49m\n\u001b[1;32m   1919\u001b[0m \u001b[43m            \u001b[49m\u001b[43mrun_manager\u001b[49m\u001b[43m,\u001b[49m\n\u001b[1;32m   1920\u001b[0m \u001b[43m            \u001b[49m\u001b[38;5;241;43m*\u001b[39;49m\u001b[38;5;241;43m*\u001b[39;49m\u001b[43mkwargs\u001b[49m\u001b[43m,\u001b[49m\n\u001b[1;32m   1921\u001b[0m \u001b[43m        \u001b[49m\u001b[43m)\u001b[49m,\n\u001b[1;32m   1922\u001b[0m     )\n\u001b[1;32m   1923\u001b[0m \u001b[38;5;28;01mexcept\u001b[39;00m \u001b[38;5;167;01mBaseException\u001b[39;00m \u001b[38;5;28;01mas\u001b[39;00m e:\n\u001b[1;32m   1924\u001b[0m     run_manager\u001b[38;5;241m.\u001b[39mon_chain_error(e)\n",
      "File \u001b[0;32m~/mydir/local-repository/playing-LLM/.env_RAG/lib/python3.12/site-packages/langchain_core/runnables/config.py:396\u001b[0m, in \u001b[0;36mcall_func_with_variable_args\u001b[0;34m(func, input, config, run_manager, **kwargs)\u001b[0m\n\u001b[1;32m    394\u001b[0m \u001b[38;5;28;01mif\u001b[39;00m run_manager \u001b[38;5;129;01mis\u001b[39;00m \u001b[38;5;129;01mnot\u001b[39;00m \u001b[38;5;28;01mNone\u001b[39;00m \u001b[38;5;129;01mand\u001b[39;00m accepts_run_manager(func):\n\u001b[1;32m    395\u001b[0m     kwargs[\u001b[38;5;124m\"\u001b[39m\u001b[38;5;124mrun_manager\u001b[39m\u001b[38;5;124m\"\u001b[39m] \u001b[38;5;241m=\u001b[39m run_manager\n\u001b[0;32m--> 396\u001b[0m \u001b[38;5;28;01mreturn\u001b[39;00m \u001b[43mfunc\u001b[49m\u001b[43m(\u001b[49m\u001b[38;5;28;43minput\u001b[39;49m\u001b[43m,\u001b[49m\u001b[43m \u001b[49m\u001b[38;5;241;43m*\u001b[39;49m\u001b[38;5;241;43m*\u001b[39;49m\u001b[43mkwargs\u001b[49m\u001b[43m)\u001b[49m\n",
      "File \u001b[0;32m~/mydir/local-repository/playing-LLM/.env_RAG/lib/python3.12/site-packages/langchain_core/prompts/base.py:184\u001b[0m, in \u001b[0;36mBasePromptTemplate._format_prompt_with_error_handling\u001b[0;34m(self, inner_input)\u001b[0m\n\u001b[1;32m    183\u001b[0m \u001b[38;5;28;01mdef\u001b[39;00m\u001b[38;5;250m \u001b[39m\u001b[38;5;21m_format_prompt_with_error_handling\u001b[39m(\u001b[38;5;28mself\u001b[39m, inner_input: \u001b[38;5;28mdict\u001b[39m) \u001b[38;5;241m-\u001b[39m\u001b[38;5;241m>\u001b[39m PromptValue:\n\u001b[0;32m--> 184\u001b[0m     _inner_input \u001b[38;5;241m=\u001b[39m \u001b[38;5;28;43mself\u001b[39;49m\u001b[38;5;241;43m.\u001b[39;49m\u001b[43m_validate_input\u001b[49m\u001b[43m(\u001b[49m\u001b[43minner_input\u001b[49m\u001b[43m)\u001b[49m\n\u001b[1;32m    185\u001b[0m     \u001b[38;5;28;01mreturn\u001b[39;00m \u001b[38;5;28mself\u001b[39m\u001b[38;5;241m.\u001b[39mformat_prompt(\u001b[38;5;241m*\u001b[39m\u001b[38;5;241m*\u001b[39m_inner_input)\n",
      "File \u001b[0;32m~/mydir/local-repository/playing-LLM/.env_RAG/lib/python3.12/site-packages/langchain_core/prompts/base.py:160\u001b[0m, in \u001b[0;36mBasePromptTemplate._validate_input\u001b[0;34m(self, inner_input)\u001b[0m\n\u001b[1;32m    155\u001b[0m     \u001b[38;5;28;01melse\u001b[39;00m:\n\u001b[1;32m    156\u001b[0m         msg \u001b[38;5;241m=\u001b[39m (\n\u001b[1;32m    157\u001b[0m             \u001b[38;5;124mf\u001b[39m\u001b[38;5;124m\"\u001b[39m\u001b[38;5;124mExpected mapping type as input to \u001b[39m\u001b[38;5;132;01m{\u001b[39;00m\u001b[38;5;28mself\u001b[39m\u001b[38;5;241m.\u001b[39m\u001b[38;5;18m__class__\u001b[39m\u001b[38;5;241m.\u001b[39m\u001b[38;5;18m__name__\u001b[39m\u001b[38;5;132;01m}\u001b[39;00m\u001b[38;5;124m. \u001b[39m\u001b[38;5;124m\"\u001b[39m\n\u001b[1;32m    158\u001b[0m             \u001b[38;5;124mf\u001b[39m\u001b[38;5;124m\"\u001b[39m\u001b[38;5;124mReceived \u001b[39m\u001b[38;5;132;01m{\u001b[39;00m\u001b[38;5;28mtype\u001b[39m(inner_input)\u001b[38;5;132;01m}\u001b[39;00m\u001b[38;5;124m.\u001b[39m\u001b[38;5;124m\"\u001b[39m\n\u001b[1;32m    159\u001b[0m         )\n\u001b[0;32m--> 160\u001b[0m         \u001b[38;5;28;01mraise\u001b[39;00m \u001b[38;5;167;01mTypeError\u001b[39;00m(\n\u001b[1;32m    161\u001b[0m             create_message(\n\u001b[1;32m    162\u001b[0m                 message\u001b[38;5;241m=\u001b[39mmsg, error_code\u001b[38;5;241m=\u001b[39mErrorCode\u001b[38;5;241m.\u001b[39mINVALID_PROMPT_INPUT\n\u001b[1;32m    163\u001b[0m             )\n\u001b[1;32m    164\u001b[0m         )\n\u001b[1;32m    165\u001b[0m missing \u001b[38;5;241m=\u001b[39m \u001b[38;5;28mset\u001b[39m(\u001b[38;5;28mself\u001b[39m\u001b[38;5;241m.\u001b[39minput_variables)\u001b[38;5;241m.\u001b[39mdifference(inner_input)\n\u001b[1;32m    166\u001b[0m \u001b[38;5;28;01mif\u001b[39;00m missing:\n",
      "\u001b[0;31mTypeError\u001b[0m: Expected mapping type as input to ChatPromptTemplate. Received <class 'list'>.\nFor troubleshooting, visit: https://python.langchain.com/docs/troubleshooting/errors/INVALID_PROMPT_INPUT "
     ]
    }
   ],
   "source": [
    "model.ask(prompt=\"モーメントとは何ですか？\", session_id=\"123\")"
   ]
  },
  {
   "cell_type": "markdown",
   "metadata": {},
   "source": [
    "KeyError: \"Input to ChatPromptTemplate is missing variables {'context', 'input'}.  Expected: ['context', 'input'] Received: ['chat_history']\\nNote: if you intended {context} to be part of the string and not a variable, please escape it with double curly braces like: '{{context}}'.\\nFor troubleshooting, visit: https://python.langchain.com/docs/troubleshooting/errors/INVALID_PROMPT_INPUT \""
   ]
  },
  {
   "cell_type": "markdown",
   "metadata": {},
   "source": [
    "\"Input to ChatPromptTemplate is missing variables {'context'}.  Expected: ['context', 'input'] Received: ['input']\\nNote: if you intended {context} to be part of the string and not a variable, please escape it with double curly braces like: '{{context}}'.\\nFor troubleshooting, visit: https://python.langchain.com/docs/troubleshooting/errors/INVALID_PROMPT_INPUT "
   ]
  },
  {
   "cell_type": "code",
   "execution_count": 6,
   "metadata": {},
   "outputs": [
    {
     "name": "stdout",
     "output_type": "stream",
     "text": [
      "型: <class 'dict'>\n",
      "input_: {'input': 'もっと詳しく教えてください', 'chat_history': [HumanMessage(content='モーメントとは何ですか？', additional_kwargs={}, response_metadata={}), AIMessage(content='モーメントとは、確率変数のべき乗の期待値です。確率変数のn乗のモーメントは、特にn次のモーメントと呼ばれます。具体的には、1次のモーメントは平均です。', additional_kwargs={}, response_metadata={}), HumanMessage(content='もっと詳しく教えてください', additional_kwargs={}, response_metadata={}), AIMessage(content='申し訳ありませんが、質問が漠然としており、何について詳しく説明すればいいのかわかりません。質問を具体的にしていただければ、適切な回答をさせていただきます。', additional_kwargs={}, response_metadata={})]}\n",
      "-----------------\n",
      "context: [Document(id='602e857a-57fb-4ead-83ae-45249c319453', metadata={}, page_content='そこで\\nに規格化定数をかけることで規格化するよ．\\n規格化定数\\nに対して規格化されていないといけない．だから規格化定数 をつけて調整する．\\nんで，すごいのはこれ．説明は後，まず⾒てみて．'), Document(id='8cea6d80-7a98-468c-8ce4-01b4a46d8749', metadata={}, page_content='でも注意して欲しいのが，\\nも確率密度関数であるため，規格化されている必要がある．\\nそこで\\nに規格化定数をかけることで規格化するよ．\\n規格化定数'), Document(id='8652bdfb-6478-4941-856e-e62fccd2c1c6', metadata={}, page_content='は規格化されている正規分布に従う確率変数．これに をかけたり を⾜したりすることで分布を⾃由\\nに引き伸ばしたり移動したりできる．\\nそんな⾃由な正規分布に従うのが確率変数\\nだよ．めちゃ⼤事'), Document(id='cea15dcf-e12b-4e5e-b7d9-83831b886169', metadata={}, page_content='さあ説明するよ．\\nはただニ変数の確率密度関数 に を代⼊したもの．それだけ！\\nでも注意して欲しいのが，\\nも確率密度関数であるため，規格化されている必要がある．\\nそこで'), Document(id='be2a6b93-6313-4a15-9ebf-041a27ce0a5d', metadata={}, page_content='も確率密度関数であるため，規格化されている必要がある．\\nそこで\\nに規格化定数をかけることで規格化するよ．\\n規格化定数\\nに対して規格化されていないといけない．だから規格化定数 をつけて調整する．'), Document(id='fc02c674-db35-4a87-893c-327649b2902e', metadata={}, page_content='る．\\n相関係数が規格化されていることの証明( の証明)\\nまず以下を考える．\\nここから何をやるのか． が正になると⾔って，不等式を\\n⽴てる．\\nそんで証明する．'), Document(id='ffb2bc59-9463-4c52-8d2d-403767848f9c', metadata={}, page_content='に引き伸ばしたり移動したりできる．\\nそんな⾃由な正規分布に従うのが確率変数\\nだよ．めちゃ⼤事\\nが従う分布の形を知りたいんよね．⼀般的な正規分布に従うんだけども．'), Document(id='b350d965-df9c-49fb-aa7a-e0d5d9c2669e', metadata={}, page_content='おーーーー，統計でよく⾒る形が出てきた！！！！！\\n順番に変換していけばよく⾒るこの形が導出できるんだね．\\n次に について考えよう．\\n変換後の分散を変換前の確率変数(またそれらで得られるモーメン')]\n"
     ]
    },
    {
     "data": {
      "text/plain": [
       "'提供されたテキストは、確率密度関数、特に正規分布とその規格化について断片的に説明しています。規格化定数をかけることで確率密度関数を規格化し、確率の総和が1になるように調整する必要があることを述べています。また、正規分布の変数変換についても触れられていますが、具体的な変換方法やその後の分散の計算方法などは断片的にしか記述されていません。詳細な説明や数式、具体的な例などは提供されていないため、これ以上の詳細な説明はできません。'"
      ]
     },
     "execution_count": 6,
     "metadata": {},
     "output_type": "execute_result"
    }
   ],
   "source": [
    "model.ask(prompt=\"もっと詳しく教えてください\", session_id=\"123\")"
   ]
  },
  {
   "cell_type": "code",
   "execution_count": 4,
   "metadata": {},
   "outputs": [
    {
     "name": "stdout",
     "output_type": "stream",
     "text": [
      "型: <class 'dict'>\n",
      "input_: {'input': 'もっと詳しく教えてください', 'chat_history': [HumanMessage(content='モーメントとは何ですか？', additional_kwargs={}, response_metadata={}), AIMessage(content='モーメントとは、確率変数のべき乗の期待値です。確率変数のn乗のモーメントは、特にn次のモーメントと呼ばれます。具体的には、1次のモーメントは平均です。', additional_kwargs={}, response_metadata={})]}\n",
      "-----------------\n",
      "context: [Document(id='69e886fe-f1c3-4714-b880-13168c8c748a', metadata={}, page_content='分布関数\\n第⼆回\\n期待値，モーメント\\n確率密度の状態を表す量，代表値を導⼊．\\n第三回\\nモーメント⺟関数\\n次のモーメントを求める．\\n今回．\\n確率変数の変数変換．'), Document(id='7d4b437c-ab43-46d3-b06b-9710a3e5df9e', metadata={}, page_content='第四回\\n復習\\n⼤事なもの\\n第⼀回\\n確率変数\\n確率密度関数(確率密度，本質的な違いはない．)\\n分布関数\\n第⼆回\\n期待値，モーメント\\n確率密度の状態を表す量，代表値を導⼊．\\n第三回\\nモーメント⺟関数'), Document(id='7496b425-6041-457c-a41a-18df3b258676', metadata={}, page_content='簡単簡単．\\n多項分布の平均と分散\\n※平均も分散も各パターンごと， ごとに定義される．\\n超幾何分布\\n⼆項分布の親戚．⼆項分布で取り出したものを戻さないときの確率分布．\\n確率質量関数は以下．'), Document(id='cac5e02b-519f-4d3f-a560-d87ba30215f6', metadata={}, page_content='次のモーメントを求めていくことができる．らしい．\\n復習(低次のモーメント)\\n低次のモーメント\\n⼀次のモーメントはそのまま平均で，ニ次のモーメントがわかっていれば分散が出\\nせる．\\n平均周りのモーメント'), Document(id='6cd99840-867c-409d-8a06-5a8d0f0e979f', metadata={}, page_content='確率密度の状態を表す量，代表値を導⼊．\\n第三回\\nモーメント⺟関数\\n次のモーメントを求める．\\n今回．\\n確率変数の変数変換．\\n変換をしたときに確率密度関数がどのように変化するのかを⾒てみる．'), Document(id='c4b6bb41-244e-4868-9fa8-23708c6c47f2', metadata={}, page_content='値，確率密度の積分(規格化により1\\nうん，こいつらはよく出てくるのでまとめよう．それがモーメント.\\nモーメント\\n=確率変数の~乗の期待値．\\n確率変数の 乗のモーメントは特別 次のモーメントというよ．'), Document(id='938bcba1-47cc-48e7-a23f-d22ad820b161', metadata={}, page_content='分散は⼀次のモーメントと⼆次のモーメントがあれば出せるので⼆次のモーメントだけ出せばOK\\nんでどうするかというと，\\nをもう⼀回微分する．\\n⼆次のモーメントが求められた．早速分散にしてみよう．'), Document(id='062f8782-8afb-4a03-ac1e-0b6741325d23', metadata={}, page_content='⼆次のモーメントが求められた．早速分散にしてみよう．\\nできた．実は なので とも表すことができる．\\n第⼋回\\n⼤数の法則\\n⼆項分布の確率変数を から に変換したときに出てくる．これは何を意味するのか？')]\n"
     ]
    },
    {
     "data": {
      "text/plain": [
       "'申し訳ありませんが、質問が漠然としており、何について詳しく説明すればいいのかわかりません。質問を具体的にしていただければ、適切な回答をさせていただきます。'"
      ]
     },
     "execution_count": 4,
     "metadata": {},
     "output_type": "execute_result"
    }
   ],
   "source": [
    "model.ask(prompt=\"もっと詳しく教えてください\", session_id=\"456\")"
   ]
  },
  {
   "cell_type": "code",
   "execution_count": 5,
   "metadata": {},
   "outputs": [
    {
     "data": {
      "text/plain": [
       "InMemoryChatMessageHistory(messages=[HumanMessage(content='モーメントとは何ですか？', additional_kwargs={}, response_metadata={}), AIMessage(content='モーメントとは、確率変数のべき乗の期待値です。確率変数のn乗のモーメントは、特にn次のモーメントと呼ばれます。具体的には、1次のモーメントは平均です。', additional_kwargs={}, response_metadata={}), HumanMessage(content='もっと詳しく教えてください', additional_kwargs={}, response_metadata={}), AIMessage(content='申し訳ありませんが、質問が漠然としており、何について詳しく説明すればいいのかわかりません。質問を具体的にしていただければ、適切な回答をさせていただきます。', additional_kwargs={}, response_metadata={})])"
      ]
     },
     "execution_count": 5,
     "metadata": {},
     "output_type": "execute_result"
    }
   ],
   "source": [
    "model.chat_history_for_chain"
   ]
  },
  {
   "cell_type": "code",
   "execution_count": null,
   "metadata": {},
   "outputs": [],
   "source": []
  },
  {
   "cell_type": "markdown",
   "metadata": {},
   "source": [
    "# チャット履歴，メモリー，トリミング"
   ]
  },
  {
   "cell_type": "markdown",
   "metadata": {},
   "source": [
    "なかなかうまくいかなかった．原因をメモしておく．\n",
    "\n",
    "原因\n",
    "- trrimmer関数が，Runnableオブジェクトではなかったから．\n",
    "- trimmer関数は普通の関数として扱われるため,LCEL記法で使うことができない．\n",
    "\n",
    "対策\n",
    "- trimmer関数をRunnableオブジェクトに変換する．\n",
    "- @chainデコレータを利用して，trimmer関数をラップすることでRunnableオブジェクトに強制的に変換する．\n",
    "- この時に注意するのは，trimmer関数には，何かしらの引数が必要であること．RunableオブジェクトをLCEL記法でchainする時，何かしらのデータが渡って，chainされるから．\n",
    "したがって，trimmer関数自体には，messageなどで，ユーザーのinputを渡す．\n",
    "- @chainデコレータでラップする際には，selfを入れてはいけない，エラーが出る．\n",
    "- ラップ関数を通り，元の関数をreturnする．デコレータでラップしているので，これだけでRunnableなオブジェクトに変換される．\n",
    "- それをchainする．→完了"
   ]
  },
  {
   "cell_type": "code",
   "execution_count": 1,
   "metadata": {},
   "outputs": [
    {
     "name": "stderr",
     "output_type": "stream",
     "text": [
      "/Users/takahashikaisei/mydir/local-repository/playing-LLM/.env_RAG/lib/python3.12/site-packages/tqdm/auto.py:21: TqdmWarning: IProgress not found. Please update jupyter and ipywidgets. See https://ipywidgets.readthedocs.io/en/stable/user_install.html\n",
      "  from .autonotebook import tqdm as notebook_tqdm\n"
     ]
    }
   ],
   "source": [
    "from gemini_rag_memory_trim import Gemini_RAG_Trimmed_Memory"
   ]
  },
  {
   "cell_type": "code",
   "execution_count": 2,
   "metadata": {},
   "outputs": [],
   "source": [
    "\n",
    "# 1) インスタンス生成\n",
    "rag_trim_chatbot = Gemini_RAG_Trimmed_Memory()\n",
    "\n",
    "# 2) ドキュメントを読み込んでベクトルストア化\n",
    "#    「data/rag.txt」というテキストファイルを想定しています\n",
    "rag_trim_chatbot.save_text(path=\"rag.txt\")\n",
    "\n",
    "# 3) チェーンなどの初期化\n",
    "rag_trim_chatbot.run()\n",
    "\n"
   ]
  },
  {
   "cell_type": "code",
   "execution_count": 3,
   "metadata": {},
   "outputs": [
    {
     "name": "stdout",
     "output_type": "stream",
     "text": [
      "型: <class 'dict'>\n",
      "input_: {'input': 'このドキュメントには何が書いてありますか？', 'chat_history': []}\n",
      "-----------------\n",
      "context: [Document(id='3ba9c44e-0107-4c01-ad6b-1b6c0118864c', metadata={}, page_content='パラメータ数が⼆項分布より⼀個減るので⾃由度は1\\n※wikiとかでは は で書かれてたりする．\\nポアソン分布の平均\\nポアソン分布は なので は使えない．'), Document(id='09d319be-56a5-4ac1-90a7-60159ebec167', metadata={}, page_content='次のモーメントがこんなにもスッキリ表せた．\\n具体的な確率密度でモーメントを求めてみる！！！\\n板書そのまま\\nk前半(確率論の考え⽅の基礎) 10'), Document(id='e272f640-a9f3-44e4-a166-4dabd35ad0b7', metadata={}, page_content='※先⽣が⼤⽂字に書き直したので修正した.\\nほいこんな感じ．では でくくろう．\\nできた， 次の項の形に注⽬するとこういう形が出てくる．すごいのはここから．'), Document(id='ca1df0f6-d738-4824-b0aa-e51b868a8312', metadata={}, page_content='ポアソン分布の場合．パラメータは のみ．( という条件を⼊れることでこうなった)\\nパラメータ数が⼆項分布より⼀個減るので⾃由度は1\\n※wikiとかでは は で書かれてたりする．\\nポアソン分布の平均'), Document(id='81239243-34e9-4847-9001-88edc58c36ef', metadata={}, page_content='だけは絶対覚える！！！！！！！！！！！\\n第四回\\n復習\\n⼤事なもの\\n第⼀回\\n確率変数\\n確率密度関数(確率密度，本質的な違いはない．)\\n分布関数\\n第⼆回\\n期待値，モーメント'), Document(id='cfcd35fb-559a-4165-8961-ec2259bf88e3', metadata={}, page_content='ゃないとだめ．\\nでも\\nとかでもポアソン分布が使えるのは， のおかげ．\\nポアソン分布を⼀般的な数式\\nまず⼆項分布の場合．パラメータは'), Document(id='42e946ea-6470-423d-a767-125d0c61ee97', metadata={}, page_content='が⼩さければ， が⼀定なら→ポアソン分布になる．\\nでは， が⼩さくないとき を⼤きくするとどうなるのか\\n確率変数\\nを変数変換して新たな確率変数 を作る．(次の板書でかく)\\nその'), Document(id='c2a3fa46-1bcf-47eb-b76d-8d04b314d568', metadata={}, page_content='⼆項分布の分散\\n分散は⼀次のモーメントと⼆次のモーメントがあれば出せるので⼆次のモーメントだけ出せばOK\\nんでどうするかというと，\\nをもう⼀回微分する．')]\n",
      "トリマーに入力されたメッセージ <class 'list'>\n",
      "トリマーに入力されたメッセージ []\n",
      "トリマーによってトリミングされた後のメッセージ []\n",
      "トリマーによってトリミングされた後のメッセージ <class 'list'>\n",
      "response1: 確率論、特にポアソン分布と二項分布についての講義ノートのようです。  モーメントの計算方法や、ポアソン分布のパラメータ、自由度についても言及されています。 特に、ポアソン分布の平均や分散の計算方法が示唆されています。\n"
     ]
    }
   ],
   "source": [
    "# 4) テスト的に質問を投げてみる\n",
    "#    - まだ履歴が空なので最初は再構成チェーンで「チャット履歴がないため答えられない」のような挙動になるかもしれません\n",
    "response1 = rag_trim_chatbot.ask(\"このドキュメントには何が書いてありますか？\", session_id=\"1\")\n",
    "print(\"response1:\", response1)"
   ]
  },
  {
   "cell_type": "code",
   "execution_count": 4,
   "metadata": {},
   "outputs": [
    {
     "data": {
      "text/plain": [
       "InMemoryChatMessageHistory(messages=[HumanMessage(content='このドキュメントには何が書いてありますか？', additional_kwargs={}, response_metadata={}), AIMessage(content='確率論、特にポアソン分布と二項分布についての講義ノートのようです。  モーメントの計算方法や、ポアソン分布のパラメータ、自由度についても言及されています。 特に、ポアソン分布の平均や分散の計算方法が示唆されています。', additional_kwargs={}, response_metadata={})])"
      ]
     },
     "execution_count": 4,
     "metadata": {},
     "output_type": "execute_result"
    }
   ],
   "source": [
    "rag_trim_chatbot.chat_history_for_chain"
   ]
  },
  {
   "cell_type": "code",
   "execution_count": 5,
   "metadata": {},
   "outputs": [
    {
     "name": "stdout",
     "output_type": "stream",
     "text": [
      "型: <class 'dict'>\n",
      "input_: {'input': '具体的なポイントを教えてください。', 'chat_history': [HumanMessage(content='このドキュメントには何が書いてありますか？', additional_kwargs={}, response_metadata={}), AIMessage(content='確率論、特にポアソン分布と二項分布についての講義ノートのようです。  モーメントの計算方法や、ポアソン分布のパラメータ、自由度についても言及されています。 特に、ポアソン分布の平均や分散の計算方法が示唆されています。', additional_kwargs={}, response_metadata={})]}\n",
      "-----------------\n",
      "context: [Document(id='ede835f7-9c72-4d6d-8e2c-a231661f2c91', metadata={}, page_content='おーーーー，統計でよく⾒る形が出てきた！！！！！\\n順番に変換していけばよく⾒るこの形が導出できるんだね．\\n次に について考えよう．\\n変換後の分散を変換前の確率変数(またそれらで得られるモーメン'), Document(id='6427a217-d348-4e97-a5ef-0ea22514eeb4', metadata={}, page_content='⼤前提\\n変換後の平均を変換前の確率変数(またそれらで得られるモーメン\\nト)で表してみる．\\nおーーーー，統計でよく⾒る形が出てきた！！！！！\\n順番に変換していけばよく⾒るこの形が導出できるんだね．'), Document(id='09d319be-56a5-4ac1-90a7-60159ebec167', metadata={}, page_content='次のモーメントがこんなにもスッキリ表せた．\\n具体的な確率密度でモーメントを求めてみる！！！\\n板書そのまま\\nk前半(確率論の考え⽅の基礎) 10'), Document(id='611261c9-803d-4747-823a-ba05d18b2cbf', metadata={}, page_content='か．を考える．\\nではまず について考えよう．\\n⼤前提\\n変換後の平均を変換前の確率変数(またそれらで得られるモーメン\\nト)で表してみる．\\nおーーーー，統計でよく⾒る形が出てきた！！！！！'), Document(id='81239243-34e9-4847-9001-88edc58c36ef', metadata={}, page_content='だけは絶対覚える！！！！！！！！！！！\\n第四回\\n復習\\n⼤事なもの\\n第⼀回\\n確率変数\\n確率密度関数(確率密度，本質的な違いはない．)\\n分布関数\\n第⼆回\\n期待値，モーメント'), Document(id='13c495b2-9e3c-4449-bac2-35e19254f8ee', metadata={}, page_content='ふむふむ，てことは平均は⼀次のモーメントってことだね．式でかくとこれ\\nんでさっき出てきたニ次のモーメントはこれ\\nおーなんかすごいすごい．上の黒板の式をモーメントで記述していくと最終的によ'), Document(id='164c4388-5156-488f-9b66-70888338047e', metadata={}, page_content='出てきた．モーメントを知っているとこれが導出できるんやね．\\n第三回\\n第三回ではもっとモーメントについて深めていく．\\n⾼次のモーメント\\nモーメント⺟関数，期待値の性質．'), Document(id='7d5de02f-d522-49ea-a7a3-29ab8236f559', metadata={}, page_content='んでさっき出てきたニ次のモーメントはこれ\\nおーなんかすごいすごい．上の黒板の式をモーメントで記述していくと最終的によ\\nくみるあいつが出てくる．\\nk x\\n2 x1\\nk k')]\n",
      "トリマーに入力されたメッセージ <class 'list'>\n",
      "トリマーに入力されたメッセージ [HumanMessage(content='このドキュメントには何が書いてありますか？', additional_kwargs={}, response_metadata={}), AIMessage(content='確率論、特にポアソン分布と二項分布についての講義ノートのようです。  モーメントの計算方法や、ポアソン分布のパラメータ、自由度についても言及されています。 特に、ポアソン分布の平均や分散の計算方法が示唆されています。', additional_kwargs={}, response_metadata={})]\n",
      "トリマーによってトリミングされた後のメッセージ [HumanMessage(content='このドキュメントには何が書いてありますか？', additional_kwargs={}, response_metadata={}), AIMessage(content='確率論、特にポアソン分布と二項分布についての講義ノートのようです。  モーメントの計算方法や、ポアソン分布のパラメータ、自由度についても言及されています。 特に、ポアソン分布の平均や分散の計算方法が示唆されています。', additional_kwargs={}, response_metadata={})]\n",
      "トリマーによってトリミングされた後のメッセージ <class 'list'>\n",
      "response2: 講義ノートは、モーメントを用いて確率分布の平均と分散を計算する方法を説明しています。  特に1次と2次のモーメントに注目し、よく知られた統計的形状（おそらく正規分布）が導出できることを示唆しています。 また、確率密度関数、分布関数、期待値といった確率論の基本概念も含まれています。\n"
     ]
    }
   ],
   "source": [
    "# 5) もう一度質問すると、前のやり取りの履歴があり再構成が行われます\n",
    "response2 = rag_trim_chatbot.ask(\"具体的なポイントを教えてください。\", session_id=\"1\")\n",
    "print(\"response2:\", response2)"
   ]
  },
  {
   "cell_type": "code",
   "execution_count": 6,
   "metadata": {},
   "outputs": [
    {
     "data": {
      "text/plain": [
       "InMemoryChatMessageHistory(messages=[HumanMessage(content='このドキュメントには何が書いてありますか？', additional_kwargs={}, response_metadata={}), AIMessage(content='確率論の講義に関するノートのようです。特に、二項分布、ポアソン分布、モーメント、期待値、分散といった統計学の重要な概念について言及しています。さらに、ポアソン分布のパラメータや自由度についても説明があります。', additional_kwargs={}, response_metadata={}), HumanMessage(content='具体的なポイントを教えてください。', additional_kwargs={}, response_metadata={}), AIMessage(content='講義ノートはモーメントに焦点を当てており、一次のモーメントが平均、二次のモーメントが分散の算出に役立つことを説明しています。また、モーメントを用いて期待値や分散といった統計量を導出する方法についても解説しています。具体的な確率密度を用いてモーメントを求める例や、高次のモーメント、モーメント母関数、期待値の性質についても触れられています。', additional_kwargs={}, response_metadata={})])"
      ]
     },
     "execution_count": 6,
     "metadata": {},
     "output_type": "execute_result"
    }
   ],
   "source": [
    "rag_trim_chatbot.chat_history_for_chain"
   ]
  },
  {
   "cell_type": "code",
   "execution_count": 7,
   "metadata": {},
   "outputs": [
    {
     "name": "stdout",
     "output_type": "stream",
     "text": [
      "型: <class 'dict'>\n",
      "input_: {'input': 'モーメントについて詳しく教えて', 'chat_history': [HumanMessage(content='このドキュメントには何が書いてありますか？', additional_kwargs={}, response_metadata={}), AIMessage(content='確率論の講義に関するノートのようです。特に、二項分布、ポアソン分布、モーメント、期待値、分散といった統計学の重要な概念について言及しています。さらに、ポアソン分布のパラメータや自由度についても説明があります。', additional_kwargs={}, response_metadata={}), HumanMessage(content='具体的なポイントを教えてください。', additional_kwargs={}, response_metadata={}), AIMessage(content='講義ノートはモーメントに焦点を当てており、一次のモーメントが平均、二次のモーメントが分散の算出に役立つことを説明しています。また、モーメントを用いて期待値や分散といった統計量を導出する方法についても解説しています。具体的な確率密度を用いてモーメントを求める例や、高次のモーメント、モーメント母関数、期待値の性質についても触れられています。', additional_kwargs={}, response_metadata={})]}\n",
      "-----------------\n",
      "context: [Document(id='2b6d6968-b4da-4960-aa26-46a79942efc8', metadata={}, page_content='次のモーメントがこんなにもスッキリ表せた．\\n具体的な確率密度でモーメントを求めてみる！！！\\n板書そのまま\\nk前半(確率論の考え⽅の基礎) 10'), Document(id='0b56de84-6643-47b4-a204-d857c2a0c8cb', metadata={}, page_content='出てきた．モーメントを知っているとこれが導出できるんやね．\\n第三回\\n第三回ではもっとモーメントについて深めていく．\\n⾼次のモーメント\\nモーメント⺟関数，期待値の性質．'), Document(id='e86f02a5-c2c4-410d-8290-21d6a7d3cfc0', metadata={}, page_content='tk\\nt\\nk前半(確率論の考え⽅の基礎) 8\\n⼀旦整理すると， 次のモーメントは の各項の係数と関係があるって⾔ってるの\\nよ．'), Document(id='6c801bea-d628-448e-bb3f-7a08f6c7b3bc', metadata={}, page_content='具体的な確率密度でモーメントを求めてみる！！！\\n板書そのまま\\nk前半(確率論の考え⽅の基礎) 10\\n最終的に がもとまるのがアツい． 次のモーメントが知りたかったら を⼊れてい\\nけば求められる．'), Document(id='6fe1bce7-40ad-4f99-9d55-afc778c5745c', metadata={}, page_content='おーーーー，統計でよく⾒る形が出てきた！！！！！\\n順番に変換していけばよく⾒るこの形が導出できるんだね．\\n次に について考えよう．\\n変換後の分散を変換前の確率変数(またそれらで得られるモーメン'), Document(id='8cd080fe-b3fe-4214-a8a7-c8f16bf57d4e', metadata={}, page_content='第三回\\n第三回ではもっとモーメントについて深めていく．\\n⾼次のモーメント\\nモーメント⺟関数，期待値の性質．\\nモーメント⺟関数：ある確率変数の関数．その関数の期待値を求めていくことで⾼'), Document(id='12dad0cd-d6f7-4577-b2f8-721129829765', metadata={}, page_content='か．を考える．\\nではまず について考えよう．\\n⼤前提\\n変換後の平均を変換前の確率変数(またそれらで得られるモーメン\\nト)で表してみる．\\nおーーーー，統計でよく⾒る形が出てきた！！！！！'), Document(id='61c39fa6-44f9-42c7-bbd4-19006e0de3fc', metadata={}, page_content='⾼次のモーメント\\nモーメント⺟関数，期待値の性質．\\nモーメント⺟関数：ある確率変数の関数．その関数の期待値を求めていくことで⾼\\n次のモーメントを求めていくことができる．らしい．')]\n",
      "トリマーに入力されたメッセージ [HumanMessage(content='このドキュメントには何が書いてありますか？', additional_kwargs={}, response_metadata={}), AIMessage(content='確率論の講義に関するノートのようです。特に、二項分布、ポアソン分布、モーメント、期待値、分散といった統計学の重要な概念について言及しています。さらに、ポアソン分布のパラメータや自由度についても説明があります。', additional_kwargs={}, response_metadata={}), HumanMessage(content='具体的なポイントを教えてください。', additional_kwargs={}, response_metadata={}), AIMessage(content='講義ノートはモーメントに焦点を当てており、一次のモーメントが平均、二次のモーメントが分散の算出に役立つことを説明しています。また、モーメントを用いて期待値や分散といった統計量を導出する方法についても解説しています。具体的な確率密度を用いてモーメントを求める例や、高次のモーメント、モーメント母関数、期待値の性質についても触れられています。', additional_kwargs={}, response_metadata={})]\n",
      "トリマーによってトリミングされた後のメッセージ [HumanMessage(content='具体的なポイントを教えてください。', additional_kwargs={}, response_metadata={}), AIMessage(content='講義ノートはモーメントに焦点を当てており、一次のモーメントが平均、二次のモーメントが分散の算出に役立つことを説明しています。また、モーメントを用いて期待値や分散といった統計量を導出する方法についても解説しています。具体的な確率密度を用いてモーメントを求める例や、高次のモーメント、モーメント母関数、期待値の性質についても触れられています。', additional_kwargs={}, response_metadata={})]\n",
      "response3: このノートでは、モーメントはその関数の期待値を求めることで高次のモーメントを求めることができると述べています。また、モーメントを知ることで具体的な確率密度からモーメントを求め、最終的に分散を求めることができるとも示唆しています。さらに、変換後の平均や分散を変換前の確率変数やモーメントで表す方法についても言及しています。\n"
     ]
    }
   ],
   "source": [
    "# 6) トリミングの適用を確認するため、何度もやり取りを繰り返すと履歴が短縮されていく様子がわかります。\n",
    "#    例:\n",
    "response3 = rag_trim_chatbot.ask(\"モーメントについて詳しく教えて\", session_id=\"1\")\n",
    "print(\"response3:\", response3)\n",
    "\n",
    "# ... と使い続けると、トリミングされつつRAG回答も続けるチャットボットが実現できます。"
   ]
  },
  {
   "cell_type": "code",
   "execution_count": 8,
   "metadata": {},
   "outputs": [
    {
     "data": {
      "text/plain": [
       "InMemoryChatMessageHistory(messages=[HumanMessage(content='具体的なポイントを教えてください。', additional_kwargs={}, response_metadata={}), AIMessage(content='講義ノートはモーメントに焦点を当てており、一次のモーメントが平均、二次のモーメントが分散の算出に役立つことを説明しています。また、モーメントを用いて期待値や分散といった統計量を導出する方法についても解説しています。具体的な確率密度を用いてモーメントを求める例や、高次のモーメント、モーメント母関数、期待値の性質についても触れられています。', additional_kwargs={}, response_metadata={}), HumanMessage(content='モーメントについて詳しく教えて', additional_kwargs={}, response_metadata={}), AIMessage(content='このノートでは、モーメントはその関数の期待値を求めることで高次のモーメントを求めることができると述べています。また、モーメントを知ることで具体的な確率密度からモーメントを求め、最終的に分散を求めることができるとも示唆しています。さらに、変換後の平均や分散を変換前の確率変数やモーメントで表す方法についても言及しています。', additional_kwargs={}, response_metadata={})])"
      ]
     },
     "execution_count": 8,
     "metadata": {},
     "output_type": "execute_result"
    }
   ],
   "source": [
    "rag_trim_chatbot.chat_history_for_chain"
   ]
  },
  {
   "cell_type": "code",
   "execution_count": 9,
   "metadata": {},
   "outputs": [
    {
     "name": "stdout",
     "output_type": "stream",
     "text": [
      "型: <class 'dict'>\n",
      "input_: {'input': 'もう少し簡単に', 'chat_history': [HumanMessage(content='具体的なポイントを教えてください。', additional_kwargs={}, response_metadata={}), AIMessage(content='講義ノートはモーメントに焦点を当てており、一次のモーメントが平均、二次のモーメントが分散の算出に役立つことを説明しています。また、モーメントを用いて期待値や分散といった統計量を導出する方法についても解説しています。具体的な確率密度を用いてモーメントを求める例や、高次のモーメント、モーメント母関数、期待値の性質についても触れられています。', additional_kwargs={}, response_metadata={}), HumanMessage(content='モーメントについて詳しく教えて', additional_kwargs={}, response_metadata={}), AIMessage(content='このノートでは、モーメントはその関数の期待値を求めることで高次のモーメントを求めることができると述べています。また、モーメントを知ることで具体的な確率密度からモーメントを求め、最終的に分散を求めることができるとも示唆しています。さらに、変換後の平均や分散を変換前の確率変数やモーメントで表す方法についても言及しています。', additional_kwargs={}, response_metadata={})]}\n",
      "-----------------\n",
      "context: [Document(id='0b56de84-6643-47b4-a204-d857c2a0c8cb', metadata={}, page_content='出てきた．モーメントを知っているとこれが導出できるんやね．\\n第三回\\n第三回ではもっとモーメントについて深めていく．\\n⾼次のモーメント\\nモーメント⺟関数，期待値の性質．'), Document(id='47ae8aa0-451b-471a-9f00-91bdaf471cdd', metadata={}, page_content='確率変数の 乗というのはよく出てくる．以下の式だって の期待値， の期待\\n値，確率密度の積分(規格化により1\\nうん，こいつらはよく出てくるのでまとめよう．それがモーメント.\\nモーメント'), Document(id='c2fda74a-f3b2-4578-ac9d-a2b8682dec31', metadata={}, page_content='値，確率密度の積分(規格化により1\\nうん，こいつらはよく出てくるのでまとめよう．それがモーメント.\\nモーメント\\n=確率変数の~乗の期待値．\\n確率変数の 乗のモーメントは特別 次のモーメントというよ．'), Document(id='2b6d6968-b4da-4960-aa26-46a79942efc8', metadata={}, page_content='次のモーメントがこんなにもスッキリ表せた．\\n具体的な確率密度でモーメントを求めてみる！！！\\n板書そのまま\\nk前半(確率論の考え⽅の基礎) 10'), Document(id='74cde64a-b2ea-4306-9a1d-878c56fdb41e', metadata={}, page_content='⼆項分布の分散\\n分散は⼀次のモーメントと⼆次のモーメントがあれば出せるので⼆次のモーメントだけ出せばOK\\nんでどうするかというと，\\nをもう⼀回微分する．'), Document(id='6c801bea-d628-448e-bb3f-7a08f6c7b3bc', metadata={}, page_content='具体的な確率密度でモーメントを求めてみる！！！\\n板書そのまま\\nk前半(確率論の考え⽅の基礎) 10\\n最終的に がもとまるのがアツい． 次のモーメントが知りたかったら を⼊れてい\\nけば求められる．'), Document(id='8c270460-a7dc-4286-8d3b-5081d9421004', metadata={}, page_content='んでどうするかというと，\\nをもう⼀回微分する．\\n⼆次のモーメントが求められた．早速分散にしてみよう．\\nできた．実は なので とも表すことができる．\\n第⼋回\\n⼤数の法則'), Document(id='41ca4dc3-599b-4a27-bec3-259423de1977', metadata={}, page_content='モーメント\\n=確率変数の~乗の期待値．\\n確率変数の 乗のモーメントは特別 次のモーメントというよ．\\nふむふむ，てことは平均は⼀次のモーメントってことだね．式でかくとこれ')]\n",
      "トリマーに入力されたメッセージ [HumanMessage(content='具体的なポイントを教えてください。', additional_kwargs={}, response_metadata={}), AIMessage(content='講義ノートはモーメントに焦点を当てており、一次のモーメントが平均、二次のモーメントが分散の算出に役立つことを説明しています。また、モーメントを用いて期待値や分散といった統計量を導出する方法についても解説しています。具体的な確率密度を用いてモーメントを求める例や、高次のモーメント、モーメント母関数、期待値の性質についても触れられています。', additional_kwargs={}, response_metadata={}), HumanMessage(content='モーメントについて詳しく教えて', additional_kwargs={}, response_metadata={}), AIMessage(content='このノートでは、モーメントはその関数の期待値を求めることで高次のモーメントを求めることができると述べています。また、モーメントを知ることで具体的な確率密度からモーメントを求め、最終的に分散を求めることができるとも示唆しています。さらに、変換後の平均や分散を変換前の確率変数やモーメントで表す方法についても言及しています。', additional_kwargs={}, response_metadata={})]\n",
      "トリマーによってトリミングされた後のメッセージ [HumanMessage(content='モーメントについて詳しく教えて', additional_kwargs={}, response_metadata={}), AIMessage(content='このノートでは、モーメントはその関数の期待値を求めることで高次のモーメントを求めることができると述べています。また、モーメントを知ることで具体的な確率密度からモーメントを求め、最終的に分散を求めることができるとも示唆しています。さらに、変換後の平均や分散を変換前の確率変数やモーメントで表す方法についても言及しています。', additional_kwargs={}, response_metadata={})]\n",
      "response3: モーメントとは、確率変数のn乗の期待値のことです。平均は1次のモーメント、分散の計算には2次のモーメントを使います。モーメントを使うと、確率分布の特徴を捉えるのに役立ちます。\n"
     ]
    }
   ],
   "source": [
    "response3 = rag_trim_chatbot.ask(\"もう少し簡単に\", session_id=\"2\")\n",
    "print(\"response3:\", response3)"
   ]
  },
  {
   "cell_type": "code",
   "execution_count": 10,
   "metadata": {},
   "outputs": [
    {
     "name": "stdout",
     "output_type": "stream",
     "text": [
      "型: <class 'dict'>\n",
      "input_: {'input': '一番最初にした質問を出力して', 'chat_history': [HumanMessage(content='モーメントについて詳しく教えて', additional_kwargs={}, response_metadata={}), AIMessage(content='このノートでは、モーメントはその関数の期待値を求めることで高次のモーメントを求めることができると述べています。また、モーメントを知ることで具体的な確率密度からモーメントを求め、最終的に分散を求めることができるとも示唆しています。さらに、変換後の平均や分散を変換前の確率変数やモーメントで表す方法についても言及しています。', additional_kwargs={}, response_metadata={}), HumanMessage(content='もう少し簡単に', additional_kwargs={}, response_metadata={}), AIMessage(content='モーメントとは、確率変数のn乗の期待値のことです。平均は1次のモーメント、分散の計算には2次のモーメントを使います。モーメントを使うと、確率分布の特徴を捉えるのに役立ちます。', additional_kwargs={}, response_metadata={})]}\n",
      "-----------------\n",
      "context: [Document(id='2b6d6968-b4da-4960-aa26-46a79942efc8', metadata={}, page_content='次のモーメントがこんなにもスッキリ表せた．\\n具体的な確率密度でモーメントを求めてみる！！！\\n板書そのまま\\nk前半(確率論の考え⽅の基礎) 10'), Document(id='0b56de84-6643-47b4-a204-d857c2a0c8cb', metadata={}, page_content='出てきた．モーメントを知っているとこれが導出できるんやね．\\n第三回\\n第三回ではもっとモーメントについて深めていく．\\n⾼次のモーメント\\nモーメント⺟関数，期待値の性質．'), Document(id='bf8e922d-c91b-458f-a212-b2536da1f158', metadata={}, page_content='だけは絶対覚える！！！！！！！！！！！\\n第四回\\n復習\\n⼤事なもの\\n第⼀回\\n確率変数\\n確率密度関数(確率密度，本質的な違いはない．)\\n分布関数\\n第⼆回\\n期待値，モーメント'), Document(id='8cd080fe-b3fe-4214-a8a7-c8f16bf57d4e', metadata={}, page_content='第三回\\n第三回ではもっとモーメントについて深めていく．\\n⾼次のモーメント\\nモーメント⺟関数，期待値の性質．\\nモーメント⺟関数：ある確率変数の関数．その関数の期待値を求めていくことで⾼'), Document(id='6c801bea-d628-448e-bb3f-7a08f6c7b3bc', metadata={}, page_content='具体的な確率密度でモーメントを求めてみる！！！\\n板書そのまま\\nk前半(確率論の考え⽅の基礎) 10\\n最終的に がもとまるのがアツい． 次のモーメントが知りたかったら を⼊れてい\\nけば求められる．'), Document(id='61c39fa6-44f9-42c7-bbd4-19006e0de3fc', metadata={}, page_content='⾼次のモーメント\\nモーメント⺟関数，期待値の性質．\\nモーメント⺟関数：ある確率変数の関数．その関数の期待値を求めていくことで⾼\\n次のモーメントを求めていくことができる．らしい．'), Document(id='41ca4dc3-599b-4a27-bec3-259423de1977', metadata={}, page_content='モーメント\\n=確率変数の~乗の期待値．\\n確率変数の 乗のモーメントは特別 次のモーメントというよ．\\nふむふむ，てことは平均は⼀次のモーメントってことだね．式でかくとこれ'), Document(id='47ae8aa0-451b-471a-9f00-91bdaf471cdd', metadata={}, page_content='確率変数の 乗というのはよく出てくる．以下の式だって の期待値， の期待\\n値，確率密度の積分(規格化により1\\nうん，こいつらはよく出てくるのでまとめよう．それがモーメント.\\nモーメント')]\n",
      "トリマーに入力されたメッセージ [HumanMessage(content='モーメントについて詳しく教えて', additional_kwargs={}, response_metadata={}), AIMessage(content='このノートでは、モーメントはその関数の期待値を求めることで高次のモーメントを求めることができると述べています。また、モーメントを知ることで具体的な確率密度からモーメントを求め、最終的に分散を求めることができるとも示唆しています。さらに、変換後の平均や分散を変換前の確率変数やモーメントで表す方法についても言及しています。', additional_kwargs={}, response_metadata={}), HumanMessage(content='もう少し簡単に', additional_kwargs={}, response_metadata={}), AIMessage(content='モーメントとは、確率変数のn乗の期待値のことです。平均は1次のモーメント、分散の計算には2次のモーメントを使います。モーメントを使うと、確率分布の特徴を捉えるのに役立ちます。', additional_kwargs={}, response_metadata={})]\n",
      "トリマーによってトリミングされた後のメッセージ [HumanMessage(content='もう少し簡単に', additional_kwargs={}, response_metadata={}), AIMessage(content='モーメントとは、確率変数のn乗の期待値のことです。平均は1次のモーメント、分散の計算には2次のモーメントを使います。モーメントを使うと、確率分布の特徴を捉えるのに役立ちます。', additional_kwargs={}, response_metadata={})]\n",
      "response3: モーメントについて詳しく教えて\n"
     ]
    }
   ],
   "source": [
    "response3 = rag_trim_chatbot.ask(\"一番最初にした質問を出力して\", session_id=\"124\")\n",
    "print(\"response3:\", response3)"
   ]
  },
  {
   "cell_type": "markdown",
   "metadata": {},
   "source": [
    "# session管理を実装する．"
   ]
  },
  {
   "cell_type": "code",
   "execution_count": 1,
   "metadata": {},
   "outputs": [
    {
     "name": "stderr",
     "output_type": "stream",
     "text": [
      "/Users/takahashikaisei/mydir/local-repository/playing-LLM/.env_RAG/lib/python3.12/site-packages/tqdm/auto.py:21: TqdmWarning: IProgress not found. Please update jupyter and ipywidgets. See https://ipywidgets.readthedocs.io/en/stable/user_install.html\n",
      "  from .autonotebook import tqdm as notebook_tqdm\n"
     ]
    }
   ],
   "source": [
    "from gemini_rag_memory_trim_session import Gemini_RAG_Trimmed_Memory_Session"
   ]
  },
  {
   "cell_type": "code",
   "execution_count": 2,
   "metadata": {},
   "outputs": [
    {
     "name": "stdout",
     "output_type": "stream",
     "text": [
      "初期化されました\n",
      "loaderが呼び出されました\n",
      "text_splitterが呼び出されました\n",
      "vector_storeが呼び出されました\n",
      "retrieverが呼び出されました\n",
      "save_textの実行が完了しました\n",
      "preparation_promptが呼び出されました\n",
      "preparation_runが呼び出されました\n",
      "runの実行が完了しました\n"
     ]
    }
   ],
   "source": [
    "\n",
    "# 1) インスタンス生成\n",
    "rag_trim_chatbot = Gemini_RAG_Trimmed_Memory_Session()\n",
    "\n",
    "# 2) ドキュメントを読み込んでベクトルストア化\n",
    "#    「data/rag.txt」というテキストファイルを想定しています\n",
    "rag_trim_chatbot.save_text(path=\"rag.txt\")\n",
    "\n",
    "# 3) チェーンなどの初期化\n",
    "rag_trim_chatbot.run()\n",
    "\n"
   ]
  },
  {
   "cell_type": "code",
   "execution_count": 3,
   "metadata": {},
   "outputs": [
    {
     "name": "stdout",
     "output_type": "stream",
     "text": [
      "ask実行中です\n",
      "get_session_historyが呼び出されました\n",
      "wrapper_for_chainが呼び出されました\n",
      "history_aware_qaが呼び出されました\n",
      "型: <class 'dict'>\n",
      "input_: {'input': 'このドキュメントには何が書いてありますか？', 'chat_history': []}\n",
      "-----------------\n",
      "context: [Document(id='88e1be8f-56f6-4ca1-ac30-9c3c5ed9caa5', metadata={}, page_content='パラメータ数が⼆項分布より⼀個減るので⾃由度は1\\n※wikiとかでは は で書かれてたりする．\\nポアソン分布の平均\\nポアソン分布は なので は使えない．'), Document(id='de9e8d23-9373-4491-b817-46b83c2e8618', metadata={}, page_content='次のモーメントがこんなにもスッキリ表せた．\\n具体的な確率密度でモーメントを求めてみる！！！\\n板書そのまま\\nk前半(確率論の考え⽅の基礎) 10'), Document(id='65efe48d-e1c5-48c8-8b48-85dce834783b', metadata={}, page_content='※先⽣が⼤⽂字に書き直したので修正した.\\nほいこんな感じ．では でくくろう．\\nできた， 次の項の形に注⽬するとこういう形が出てくる．すごいのはここから．'), Document(id='45060ef3-e703-42af-9228-23214d1b21bb', metadata={}, page_content='ポアソン分布の場合．パラメータは のみ．( という条件を⼊れることでこうなった)\\nパラメータ数が⼆項分布より⼀個減るので⾃由度は1\\n※wikiとかでは は で書かれてたりする．\\nポアソン分布の平均'), Document(id='3781e4c0-0603-4eea-9ee4-65fba3d25691', metadata={}, page_content='だけは絶対覚える！！！！！！！！！！！\\n第四回\\n復習\\n⼤事なもの\\n第⼀回\\n確率変数\\n確率密度関数(確率密度，本質的な違いはない．)\\n分布関数\\n第⼆回\\n期待値，モーメント'), Document(id='3f5f123b-e544-47f8-b65a-6ac5625b8be5', metadata={}, page_content='ゃないとだめ．\\nでも\\nとかでもポアソン分布が使えるのは， のおかげ．\\nポアソン分布を⼀般的な数式\\nまず⼆項分布の場合．パラメータは'), Document(id='c8c67006-67bd-4785-a6e9-70847b157e9e', metadata={}, page_content='が⼩さければ， が⼀定なら→ポアソン分布になる．\\nでは， が⼩さくないとき を⼤きくするとどうなるのか\\n確率変数\\nを変数変換して新たな確率変数 を作る．(次の板書でかく)\\nその'), Document(id='19c5cb35-d2b1-4288-b7e1-d7935f8b60a4', metadata={}, page_content='⼆項分布の分散\\n分散は⼀次のモーメントと⼆次のモーメントがあれば出せるので⼆次のモーメントだけ出せばOK\\nんでどうするかというと，\\nをもう⼀回微分する．')]\n",
      "trimmerが呼び出されました\n",
      "トリマーに入力されたメッセージ []\n",
      "trimmer実行完了\n",
      "get_msg_contentが呼び出されました\n",
      "response1: 確率論、特にポアソン分布について解説しているようです。  二項分布との関係や、モーメント、期待値、分散などの計算についても触れられています。  数式を交えた説明が多く、講義の板書をまとめたものかもしれません。\n"
     ]
    }
   ],
   "source": [
    "# 4) テスト的に質問を投げてみる\n",
    "#    - まだ履歴が空なので最初は再構成チェーンで「チャット履歴がないため答えられない」のような挙動になるかもしれません\n",
    "response1 = rag_trim_chatbot.ask(\"このドキュメントには何が書いてありますか？\", session_id=\"1\")\n",
    "print(\"response1:\", response1)"
   ]
  },
  {
   "cell_type": "code",
   "execution_count": 5,
   "metadata": {},
   "outputs": [
    {
     "name": "stdout",
     "output_type": "stream",
     "text": [
      "ask実行中です\n",
      "get_session_historyが呼び出されました\n",
      "wrapper_for_chainが呼び出されました\n",
      "history_aware_qaが呼び出されました\n",
      "型: <class 'dict'>\n",
      "input_: {'input': '具体的なポイントを教えてください。', 'chat_history': [HumanMessage(content='このドキュメントには何が書いてありますか？', additional_kwargs={}, response_metadata={}), AIMessage(content='確率論、特にポアソン分布について解説しているようです。  二項分布との関係や、モーメント、期待値、分散などの計算についても触れられています。  数式を交えた説明が多く、講義の板書をまとめたものかもしれません。', additional_kwargs={}, response_metadata={})]}\n",
      "-----------------\n",
      "get_msg_contentが呼び出されました\n",
      "context: [Document(id='b6ef395e-4844-4c36-805d-f426bc1ce754', metadata={}, page_content='おーーーー，統計でよく⾒る形が出てきた！！！！！\\n順番に変換していけばよく⾒るこの形が導出できるんだね．\\n次に について考えよう．\\n変換後の分散を変換前の確率変数(またそれらで得られるモーメン'), Document(id='c6c9dedd-5a32-4d28-a581-6e75a456568e', metadata={}, page_content='俺はこれよくわからないけど⼀回受け⼊れよう．\\nモーメント⺟関数\\nモーメント⺟関数は以下のように定義される．\\nを の多項式で表現すると，\\nの項と 次のモーメントの間に の の項の係数という関係．'), Document(id='11550fd5-5ed1-429c-a76b-88bf611e89e1', metadata={}, page_content='⼤前提\\n変換後の平均を変換前の確率変数(またそれらで得られるモーメン\\nト)で表してみる．\\nおーーーー，統計でよく⾒る形が出てきた！！！！！\\n順番に変換していけばよく⾒るこの形が導出できるんだね．'), Document(id='6ca779eb-8afa-4a66-8472-5e53b057954c', metadata={}, page_content='お次のテーマいこー\\n期待値の分配法則\\n略\\nのマクローリン展開\\n俺はこれよくわからないけど⼀回受け⼊れよう．\\nモーメント⺟関数\\nモーメント⺟関数は以下のように定義される．\\nを の多項式で表現すると，'), Document(id='4f546418-a663-40bc-899b-43d846734cb0', metadata={}, page_content='具体的な確率密度でモーメントを求めてみる！！！\\n板書そのまま\\nk前半(確率論の考え⽅の基礎) 10\\n最終的に がもとまるのがアツい． 次のモーメントが知りたかったら を⼊れてい\\nけば求められる．'), Document(id='443fd080-4b6c-4f13-bda2-5f5a1ad6839d', metadata={}, page_content='そしてモデル化していく．\\nこれから勉強していく分布\\n⼆項分布\\nポアソン分布\\n多項分布\\n超幾何分布\\n正規分布\\n⼆項分布\\nコインを投げるとする．'), Document(id='8e8d0965-04b0-419e-8a95-f6b4a50651ff', metadata={}, page_content='か．を考える．\\nではまず について考えよう．\\n⼤前提\\n変換後の平均を変換前の確率変数(またそれらで得られるモーメン\\nト)で表してみる．\\nおーーーー，統計でよく⾒る形が出てきた！！！！！'), Document(id='de9e8d23-9373-4491-b817-46b83c2e8618', metadata={}, page_content='次のモーメントがこんなにもスッキリ表せた．\\n具体的な確率密度でモーメントを求めてみる！！！\\n板書そのまま\\nk前半(確率論の考え⽅の基礎) 10')]\n",
      "trimmerが呼び出されました\n",
      "トリマーに入力されたメッセージ [HumanMessage(content='このドキュメントには何が書いてありますか？', additional_kwargs={}, response_metadata={}), AIMessage(content='確率論、特にポアソン分布について解説しているようです。  二項分布との関係や、モーメント、期待値、分散などの計算についても触れられています。  数式を交えた説明が多く、講義の板書をまとめたものかもしれません。', additional_kwargs={}, response_metadata={})]\n",
      "trimmer実行完了\n",
      "get_msg_contentが呼び出されました\n",
      "response2: モーメント母関数の定義や使い方、モーメントと確率変数の関係などが説明されています。 特に、変換後の平均や分散を変換前の確率変数で表す方法や、具体的な確率密度でのモーメントの求め方が示されています。 また、二項分布、ポアソン分布、正規分布など、統計で重要な分布についても触れられています。\n"
     ]
    }
   ],
   "source": [
    "# 5) もう一度質問すると、前のやり取りの履歴があり再構成が行われます\n",
    "response2 = rag_trim_chatbot.ask(\"具体的なポイントを教えてください。\", session_id=\"1\")\n",
    "print(\"response2:\", response2)"
   ]
  },
  {
   "cell_type": "code",
   "execution_count": 6,
   "metadata": {},
   "outputs": [
    {
     "name": "stdout",
     "output_type": "stream",
     "text": [
      "ask実行中です\n",
      "get_session_historyが呼び出されました\n",
      "wrapper_for_chainが呼び出されました\n",
      "history_aware_qaが呼び出されました\n",
      "型: <class 'dict'>\n",
      "input_: {'input': 'モーメントについて詳しく教えて', 'chat_history': [HumanMessage(content='このドキュメントには何が書いてありますか？', additional_kwargs={}, response_metadata={}), AIMessage(content='確率論、特にポアソン分布について解説しているようです。  二項分布との関係や、モーメント、期待値、分散などの計算についても触れられています。  数式を交えた説明が多く、講義の板書をまとめたものかもしれません。', additional_kwargs={}, response_metadata={}), HumanMessage(content='具体的なポイントを教えてください。', additional_kwargs={}, response_metadata={}), AIMessage(content='モーメント母関数の定義や使い方、モーメントと確率変数の関係などが説明されています。 特に、変換後の平均や分散を変換前の確率変数で表す方法や、具体的な確率密度でのモーメントの求め方が示されています。 また、二項分布、ポアソン分布、正規分布など、統計で重要な分布についても触れられています。', additional_kwargs={}, response_metadata={})]}\n",
      "-----------------\n",
      "get_msg_contentが呼び出されました\n",
      "context: [Document(id='90afc810-d101-4ee5-b670-897c85ec48e4', metadata={}, page_content='分散は⼀次のモーメントと⼆次のモーメントがあれば出せるので⼆次のモーメントだけ出せばOK\\nんでどうするかというと，\\nをもう⼀回微分する．\\n⼆次のモーメントが求められた．早速分散にしてみよう．'), Document(id='5d919276-8a23-4fe1-9ac1-577b47b93be9', metadata={}, page_content='値，確率密度の積分(規格化により1\\nうん，こいつらはよく出てくるのでまとめよう．それがモーメント.\\nモーメント\\n=確率変数の~乗の期待値．\\n確率変数の 乗のモーメントは特別 次のモーメントというよ．'), Document(id='d576822f-85c2-48c1-a770-277612b74fb9', metadata={}, page_content='次のモーメントを求めていくことができる．らしい．\\n復習(低次のモーメント)\\n低次のモーメント\\n⼀次のモーメントはそのまま平均で，ニ次のモーメントがわかっていれば分散が出\\nせる．\\n平均周りのモーメント'), Document(id='a27d684d-bf26-4bca-82f1-59d2900823b8', metadata={}, page_content='確率変数の 乗というのはよく出てくる．以下の式だって の期待値， の期待\\n値，確率密度の積分(規格化により1\\nうん，こいつらはよく出てくるのでまとめよう．それがモーメント.\\nモーメント'), Document(id='49a8e5e6-d8df-4048-8503-4cee768e559d', metadata={}, page_content='p p後半(様々な確率分布) 3\\nこれで⼆項分布の平均ができた．\\n⼆項分布の分散\\n分散は⼀次のモーメントと⼆次のモーメントがあれば出せるので⼆次のモーメントだけ出せばOK\\nんでどうするかというと，'), Document(id='c6c9dedd-5a32-4d28-a581-6e75a456568e', metadata={}, page_content='俺はこれよくわからないけど⼀回受け⼊れよう．\\nモーメント⺟関数\\nモーメント⺟関数は以下のように定義される．\\nを の多項式で表現すると，\\nの項と 次のモーメントの間に の の項の係数という関係．'), Document(id='45e7a153-7d68-4fcd-a7b3-52f3d5193663', metadata={}, page_content='⼆次のモーメントが求められた．早速分散にしてみよう．\\nできた．実は なので とも表すことができる．\\n第⼋回\\n⼤数の法則\\n⼆項分布の確率変数を から に変換したときに出てくる．これは何を意味するのか？'), Document(id='0a3e133b-d0c1-4d4d-8db5-b643d3195632', metadata={}, page_content='確率密度の状態を表す量，代表値を導⼊．\\n第三回\\nモーメント⺟関数\\n次のモーメントを求める．\\n今回．\\n確率変数の変数変換．\\n変換をしたときに確率密度関数がどのように変化するのかを⾒てみる．')]\n",
      "trimmerが呼び出されました\n",
      "トリマーに入力されたメッセージ [HumanMessage(content='このドキュメントには何が書いてありますか？', additional_kwargs={}, response_metadata={}), AIMessage(content='確率論、特にポアソン分布について解説しているようです。  二項分布との関係や、モーメント、期待値、分散などの計算についても触れられています。  数式を交えた説明が多く、講義の板書をまとめたものかもしれません。', additional_kwargs={}, response_metadata={}), HumanMessage(content='具体的なポイントを教えてください。', additional_kwargs={}, response_metadata={}), AIMessage(content='モーメント母関数の定義や使い方、モーメントと確率変数の関係などが説明されています。 特に、変換後の平均や分散を変換前の確率変数で表す方法や、具体的な確率密度でのモーメントの求め方が示されています。 また、二項分布、ポアソン分布、正規分布など、統計で重要な分布についても触れられています。', additional_kwargs={}, response_metadata={})]\n",
      "trimmer実行完了\n",
      "get_msg_contentが呼び出されました\n",
      "response3: モーメントは「確率変数のk乗の期待値」で定義されます。1次のモーメントは平均、2次のモーメントは分散の算出に利用されます。モーメント母関数を用いることで、様々な次数のモーメントを算出できます。\n"
     ]
    }
   ],
   "source": [
    "# 6) トリミングの適用を確認するため、何度もやり取りを繰り返すと履歴が短縮されていく様子がわかります。\n",
    "#    例:\n",
    "response3 = rag_trim_chatbot.ask(\"モーメントについて詳しく教えて\", session_id=\"1\")\n",
    "print(\"response3:\", response3)"
   ]
  },
  {
   "cell_type": "code",
   "execution_count": 10,
   "metadata": {},
   "outputs": [
    {
     "data": {
      "text/plain": [
       "InMemoryChatMessageHistory(messages=[HumanMessage(content='このドキュメントには何が書いてありますか？', additional_kwargs={}, response_metadata={}), AIMessage(content='確率論、特にポアソン分布について解説しているようです。  二項分布との関係や、モーメント、期待値、分散などの計算についても触れられています。  数式を交えた説明が多く、講義の板書をまとめたものかもしれません。', additional_kwargs={}, response_metadata={}), HumanMessage(content='具体的なポイントを教えてください。', additional_kwargs={}, response_metadata={}), AIMessage(content='モーメント母関数の定義や使い方、モーメントと確率変数の関係などが説明されています。 特に、変換後の平均や分散を変換前の確率変数で表す方法や、具体的な確率密度でのモーメントの求め方が示されています。 また、二項分布、ポアソン分布、正規分布など、統計で重要な分布についても触れられています。', additional_kwargs={}, response_metadata={}), HumanMessage(content='モーメントについて詳しく教えて', additional_kwargs={}, response_metadata={}), AIMessage(content='モーメントは「確率変数のk乗の期待値」で定義されます。1次のモーメントは平均、2次のモーメントは分散の算出に利用されます。モーメント母関数を用いることで、様々な次数のモーメントを算出できます。', additional_kwargs={}, response_metadata={})])"
      ]
     },
     "execution_count": 10,
     "metadata": {},
     "output_type": "execute_result"
    }
   ],
   "source": [
    "rag_trim_chatbot.histories[\"1\"]"
   ]
  },
  {
   "cell_type": "markdown",
   "metadata": {},
   "source": [
    "ちゃんとsession_id1に保存できてるね．\n",
    "\n",
    "では新たなsession_id2だとどうだろうか．"
   ]
  },
  {
   "cell_type": "code",
   "execution_count": 7,
   "metadata": {},
   "outputs": [
    {
     "name": "stdout",
     "output_type": "stream",
     "text": [
      "ask実行中です\n",
      "get_session_historyが呼び出されました\n",
      "wrapper_for_chainが呼び出されました\n",
      "history_aware_qaが呼び出されました\n",
      "型: <class 'dict'>\n",
      "input_: {'input': 'もう少しわかりやすく教えて', 'chat_history': []}\n",
      "-----------------\n",
      "context: [Document(id='3781e4c0-0603-4eea-9ee4-65fba3d25691', metadata={}, page_content='だけは絶対覚える！！！！！！！！！！！\\n第四回\\n復習\\n⼤事なもの\\n第⼀回\\n確率変数\\n確率密度関数(確率密度，本質的な違いはない．)\\n分布関数\\n第⼆回\\n期待値，モーメント'), Document(id='455a595c-0fd6-4ac1-afed-2dbf4c49ab43', metadata={}, page_content='りたい．\\nそこで確率密度関数を考える．\\n確率密度関数\\nで素直に\\nの確率密度関数も考えたいんだけど．⼆つの確率変数から⼆つの確率変数への変\\n換として捉えた⽅が，何かと便利．ということで．\\n確率変数'), Document(id='8e8d0965-04b0-419e-8a95-f6b4a50651ff', metadata={}, page_content='か．を考える．\\nではまず について考えよう．\\n⼤前提\\n変換後の平均を変換前の確率変数(またそれらで得られるモーメン\\nト)で表してみる．\\nおーーーー，統計でよく⾒る形が出てきた！！！！！'), Document(id='a98aeebf-8d79-44f8-b06e-bc85af0c196d', metadata={}, page_content='t\\nk前半(確率論の考え⽅の基礎) 8\\n⼀旦整理すると， 次のモーメントは の各項の係数と関係があるって⾔ってるの\\nよ．\\nそれを考えるためにはまず がどういうふうな性質を持っているのか， がどうい'), Document(id='2bdfae10-a4c4-447a-bbcd-7597a046179f', metadata={}, page_content='ト)で表してみる．\\nおーーーー，統計でよく⾒る形が出てきた！！！！！\\n順番に変換していけばよく⾒るこの形が導出できるんだね．\\n次に について考えよう．'), Document(id='b693403c-3d6b-4413-9369-69a5b70b036e', metadata={}, page_content='まあこうなる．らしいよ．で！！！俺らが知りたがってるモーメント⺟関数は\\nだよね！！！！だからそのまま流れに任せて\\nの期待値を考えていくよ．'), Document(id='84e023ee-b647-42a4-8f06-4c22ceb7d571', metadata={}, page_content='うふうな各実数の項にばらけていくのかを考える必要がある．\\nのマクローリン展開\\n各項について考えるためにマクローリン展開を考える．'), Document(id='5764b1b8-ab86-4db6-a80d-b27fc7bf7528', metadata={}, page_content='※ は離散( )\\nだから\\nの微少量 だよ．え？なんでって？ 限界まで⼩さくしたら じゃん．(負は取らない)\\nで，そしたら連続である条件 にならないとだめ．てことで考える．\\nn\\nX p')]\n",
      "trimmerが呼び出されました\n",
      "トリマーに入力されたメッセージ []\n",
      "trimmer実行完了\n",
      "get_msg_contentが呼び出されました\n",
      "response4: 申し訳ありませんが、この断片的な情報からは、何がわかりにくく、どのような説明を求められているのか理解できません。もう少し具体的な質問をいただけますか？ 例えば、「確率密度関数とは何か」や「モーメント母関数とは何か」など、知りたい内容を具体的に教えていただけると、より適切な説明ができます。\n"
     ]
    }
   ],
   "source": [
    "response4 = rag_trim_chatbot.ask(\"もう少しわかりやすく教えて\", session_id=\"2\")\n",
    "print(\"response4:\", response4)"
   ]
  },
  {
   "cell_type": "code",
   "execution_count": 11,
   "metadata": {},
   "outputs": [
    {
     "data": {
      "text/plain": [
       "InMemoryChatMessageHistory(messages=[HumanMessage(content='もう少しわかりやすく教えて', additional_kwargs={}, response_metadata={}), AIMessage(content='申し訳ありませんが、この断片的な情報からは、何がわかりにくく、どのような説明を求められているのか理解できません。もう少し具体的な質問をいただけますか？ 例えば、「確率密度関数とは何か」や「モーメント母関数とは何か」など、知りたい内容を具体的に教えていただけると、より適切な説明ができます。', additional_kwargs={}, response_metadata={})])"
      ]
     },
     "execution_count": 11,
     "metadata": {},
     "output_type": "execute_result"
    }
   ],
   "source": [
    "rag_trim_chatbot.histories[\"2\"]"
   ]
  },
  {
   "cell_type": "markdown",
   "metadata": {},
   "source": [
    "session_id2の情報しか保存されてないね，これでOK\n",
    "\n",
    "実際に全体のsessionメモリを見てもちゃんとできてることがわかる．\n",
    "\n",
    "あとはトリムするだけ．"
   ]
  },
  {
   "cell_type": "code",
   "execution_count": 12,
   "metadata": {},
   "outputs": [
    {
     "data": {
      "text/plain": [
       "{'1': InMemoryChatMessageHistory(messages=[HumanMessage(content='このドキュメントには何が書いてありますか？', additional_kwargs={}, response_metadata={}), AIMessage(content='確率論、特にポアソン分布について解説しているようです。  二項分布との関係や、モーメント、期待値、分散などの計算についても触れられています。  数式を交えた説明が多く、講義の板書をまとめたものかもしれません。', additional_kwargs={}, response_metadata={}), HumanMessage(content='具体的なポイントを教えてください。', additional_kwargs={}, response_metadata={}), AIMessage(content='モーメント母関数の定義や使い方、モーメントと確率変数の関係などが説明されています。 特に、変換後の平均や分散を変換前の確率変数で表す方法や、具体的な確率密度でのモーメントの求め方が示されています。 また、二項分布、ポアソン分布、正規分布など、統計で重要な分布についても触れられています。', additional_kwargs={}, response_metadata={}), HumanMessage(content='モーメントについて詳しく教えて', additional_kwargs={}, response_metadata={}), AIMessage(content='モーメントは「確率変数のk乗の期待値」で定義されます。1次のモーメントは平均、2次のモーメントは分散の算出に利用されます。モーメント母関数を用いることで、様々な次数のモーメントを算出できます。', additional_kwargs={}, response_metadata={})]),\n",
       " '2': InMemoryChatMessageHistory(messages=[HumanMessage(content='もう少しわかりやすく教えて', additional_kwargs={}, response_metadata={}), AIMessage(content='申し訳ありませんが、この断片的な情報からは、何がわかりにくく、どのような説明を求められているのか理解できません。もう少し具体的な質問をいただけますか？ 例えば、「確率密度関数とは何か」や「モーメント母関数とは何か」など、知りたい内容を具体的に教えていただけると、より適切な説明ができます。', additional_kwargs={}, response_metadata={})])}"
      ]
     },
     "execution_count": 12,
     "metadata": {},
     "output_type": "execute_result"
    }
   ],
   "source": [
    "rag_trim_chatbot.histories"
   ]
  },
  {
   "cell_type": "code",
   "execution_count": null,
   "metadata": {},
   "outputs": [],
   "source": []
  },
  {
   "cell_type": "markdown",
   "metadata": {},
   "source": [
    "# session管理を実装する．"
   ]
  },
  {
   "cell_type": "code",
   "execution_count": 1,
   "metadata": {},
   "outputs": [
    {
     "name": "stderr",
     "output_type": "stream",
     "text": [
      "/Users/takahashikaisei/mydir/local-repository/playing-LLM/.env_RAG/lib/python3.12/site-packages/tqdm/auto.py:21: TqdmWarning: IProgress not found. Please update jupyter and ipywidgets. See https://ipywidgets.readthedocs.io/en/stable/user_install.html\n",
      "  from .autonotebook import tqdm as notebook_tqdm\n"
     ]
    }
   ],
   "source": [
    "from gemini_rag_memory_trim_session import Gemini_RAG_Trimmed_Memory_Session"
   ]
  },
  {
   "cell_type": "code",
   "execution_count": 2,
   "metadata": {},
   "outputs": [
    {
     "name": "stdout",
     "output_type": "stream",
     "text": [
      "初期化されました\n",
      "loaderが呼び出されました\n",
      "text_splitterが呼び出されました\n",
      "vector_storeが呼び出されました\n",
      "retrieverが呼び出されました\n",
      "save_textの実行が完了しました\n",
      "preparation_promptが呼び出されました\n",
      "preparation_runが呼び出されました\n",
      "runの実行が完了しました\n"
     ]
    }
   ],
   "source": [
    "\n",
    "# 1) インスタンス生成\n",
    "rag_trim_chatbot = Gemini_RAG_Trimmed_Memory_Session()\n",
    "\n",
    "# 2) ドキュメントを読み込んでベクトルストア化\n",
    "#    「data/rag.txt」というテキストファイルを想定しています\n",
    "rag_trim_chatbot.save_text(path=\"rag.txt\")\n",
    "\n",
    "# 3) チェーンなどの初期化\n",
    "rag_trim_chatbot.run()\n",
    "\n"
   ]
  },
  {
   "cell_type": "code",
   "execution_count": 3,
   "metadata": {},
   "outputs": [
    {
     "name": "stdout",
     "output_type": "stream",
     "text": [
      "ask実行中です\n",
      "現在のsession_id: 1\n",
      "get_session_historyが呼び出されました\n",
      "タイプ：<class 'dict'>, histories:{}\n",
      "タイプ:<class 'str'>session_id:1\n",
      "タイプ：<class 'langchain_core.chat_history.InMemoryChatMessageHistory'>, \n",
      "wrapper_for_chainが呼び出されました\n",
      "history_aware_qaが呼び出されました\n",
      "型: <class 'dict'>\n",
      "input_: {'input': 'このドキュメントには何が書いてありますか？', 'chat_history': []}\n",
      "-----------------\n",
      "context: [Document(id='75bcf115-c1a9-40f4-8255-7fd0b81140ef', metadata={}, page_content='パラメータ数が⼆項分布より⼀個減るので⾃由度は1\\n※wikiとかでは は で書かれてたりする．\\nポアソン分布の平均\\nポアソン分布は なので は使えない．'), Document(id='cf784d85-e2b1-4fd6-86b3-c5a21cc36833', metadata={}, page_content='次のモーメントがこんなにもスッキリ表せた．\\n具体的な確率密度でモーメントを求めてみる！！！\\n板書そのまま\\nk前半(確率論の考え⽅の基礎) 10'), Document(id='151e0b30-ee29-45ac-8b37-349cb850b601', metadata={}, page_content='※先⽣が⼤⽂字に書き直したので修正した.\\nほいこんな感じ．では でくくろう．\\nできた， 次の項の形に注⽬するとこういう形が出てくる．すごいのはここから．'), Document(id='d1ff020b-ed50-4afb-b12a-57807fe9e7a0', metadata={}, page_content='ポアソン分布の場合．パラメータは のみ．( という条件を⼊れることでこうなった)\\nパラメータ数が⼆項分布より⼀個減るので⾃由度は1\\n※wikiとかでは は で書かれてたりする．\\nポアソン分布の平均'), Document(id='07c0d25e-a699-4eaa-b151-41523dd73ad3', metadata={}, page_content='だけは絶対覚える！！！！！！！！！！！\\n第四回\\n復習\\n⼤事なもの\\n第⼀回\\n確率変数\\n確率密度関数(確率密度，本質的な違いはない．)\\n分布関数\\n第⼆回\\n期待値，モーメント'), Document(id='24da8d44-7ebb-4f23-8e63-5a1c608c5d7c', metadata={}, page_content='ゃないとだめ．\\nでも\\nとかでもポアソン分布が使えるのは， のおかげ．\\nポアソン分布を⼀般的な数式\\nまず⼆項分布の場合．パラメータは'), Document(id='2b05ddb0-33f0-47ca-9f7d-6b6094e96909', metadata={}, page_content='が⼩さければ， が⼀定なら→ポアソン分布になる．\\nでは， が⼩さくないとき を⼤きくするとどうなるのか\\n確率変数\\nを変数変換して新たな確率変数 を作る．(次の板書でかく)\\nその'), Document(id='743f898f-ebba-48b5-962b-2ef396497656', metadata={}, page_content='⼆項分布の分散\\n分散は⼀次のモーメントと⼆次のモーメントがあれば出せるので⼆次のモーメントだけ出せばOK\\nんでどうするかというと，\\nをもう⼀回微分する．')]\n",
      "trimmerが呼び出されました\n",
      "トリマーに入力されたメッセージ <class 'list'>\n",
      "トリマーに入力されたメッセージ []\n",
      "トリミングされた後のデータタイプ <class 'langchain_core.chat_history.InMemoryChatMessageHistory'>\n",
      "トリミングされた後のデータ []\n",
      "trimmer実行完了\n",
      "get_msg_contentが呼び出されました\n",
      "response1: 確率論、特にポアソン分布と二項分布について書かれています。  モーメント、期待値、分散、確率密度関数、分布関数などの用語が登場し、ポアソン分布のパラメータや自由度についても言及されています。  さらに、二項分布からポアソン分布への変換についても触れられています。\n"
     ]
    }
   ],
   "source": [
    "# 4) テスト的に質問を投げてみる\n",
    "#    - まだ履歴が空なので最初は再構成チェーンで「チャット履歴がないため答えられない」のような挙動になるかもしれません\n",
    "response1 = rag_trim_chatbot.ask(\"このドキュメントには何が書いてありますか？\", session_id=\"1\")\n",
    "print(\"response1:\", response1)"
   ]
  },
  {
   "cell_type": "code",
   "execution_count": 4,
   "metadata": {},
   "outputs": [
    {
     "name": "stdout",
     "output_type": "stream",
     "text": [
      "ask実行中です\n",
      "現在のsession_id: 1\n",
      "get_session_historyが呼び出されました\n",
      "タイプ：<class 'dict'>, histories:{'1': InMemoryChatMessageHistory(messages=[HumanMessage(content='このドキュメントには何が書いてありますか？', additional_kwargs={}, response_metadata={}), AIMessage(content='確率論、特にポアソン分布と二項分布について書かれています。  モーメント、期待値、分散、確率密度関数、分布関数などの用語が登場し、ポアソン分布のパラメータや自由度についても言及されています。  さらに、二項分布からポアソン分布への変換についても触れられています。', additional_kwargs={}, response_metadata={})])}\n",
      "タイプ:<class 'str'>session_id:1\n",
      "タイプ：<class 'langchain_core.chat_history.InMemoryChatMessageHistory'>, Human: このドキュメントには何が書いてありますか？\n",
      "AI: 確率論、特にポアソン分布と二項分布について書かれています。  モーメント、期待値、分散、確率密度関数、分布関数などの用語が登場し、ポアソン分布のパラメータや自由度についても言及されています。  さらに、二項分布からポアソン分布への変換についても触れられています。\n",
      "wrapper_for_chainが呼び出されました\n",
      "history_aware_qaが呼び出されました\n",
      "型: <class 'dict'>\n",
      "input_: {'input': '具体的なポイントを教えてください。', 'chat_history': [HumanMessage(content='このドキュメントには何が書いてありますか？', additional_kwargs={}, response_metadata={}), AIMessage(content='確率論、特にポアソン分布と二項分布について書かれています。  モーメント、期待値、分散、確率密度関数、分布関数などの用語が登場し、ポアソン分布のパラメータや自由度についても言及されています。  さらに、二項分布からポアソン分布への変換についても触れられています。', additional_kwargs={}, response_metadata={})]}\n",
      "-----------------\n",
      "get_msg_contentが呼び出されました\n",
      "context: [Document(id='3129a2d3-6fbc-47dc-8545-207f7baafee7', metadata={}, page_content='のマクローリン展開\\n各項について考えるためにマクローリン展開を考える．\\nまあこうなる．らしいよ．で！！！俺らが知りたがってるモーメント⺟関数は\\nだよね！！！！だからそのまま流れに任せて'), Document(id='741efe54-5be7-4459-96ae-206e98f25230', metadata={}, page_content='うふうな各実数の項にばらけていくのかを考える必要がある．\\nのマクローリン展開\\n各項について考えるためにマクローリン展開を考える．'), Document(id='3c73eb0f-9aa0-4c8c-b245-bf94111ad07f', metadata={}, page_content='おーーーー，統計でよく⾒る形が出てきた！！！！！\\n順番に変換していけばよく⾒るこの形が導出できるんだね．\\n次に について考えよう．\\n変換後の分散を変換前の確率変数(またそれらで得られるモーメン'), Document(id='9b9fb333-1954-4618-b44f-5bbadcf1214b', metadata={}, page_content='さあ説明するよ．\\nはただニ変数の確率密度関数 に を代⼊したもの．それだけ！\\nでも注意して欲しいのが，\\nも確率密度関数であるため，規格化されている必要がある．\\nそこで'), Document(id='77f4ec87-62f8-47c5-b440-10a2fccc842c', metadata={}, page_content='か．を考える．\\nではまず について考えよう．\\n⼤前提\\n変換後の平均を変換前の確率変数(またそれらで得られるモーメン\\nト)で表してみる．\\nおーーーー，統計でよく⾒る形が出てきた！！！！！'), Document(id='ee05ae3c-3dc9-4ee1-a470-b5f014334b85', metadata={}, page_content='せる．\\n⼆つが決まれば後⼀つは出るので⾃由度は2．すごい！！！！！！！！！！！！\\n結合確率(同時確率)と周辺確率の関係(まとめ)'), Document(id='06212916-7134-4f70-9571-4a258a955d1a', metadata={}, page_content='ちょっとわかりづらいかもだけど，簡単に⾔えば によらないときの の確率密度関\\n数(それが周辺確率)だよ．あとはそれを積分したら周辺分布関数になった．それだ\\nけ．\\n条件付き確率'), Document(id='8efe8ca8-427f-4ea9-975b-fbdf42302c56', metadata={}, page_content='ト)で表してみる．\\nおーーーー，統計でよく⾒る形が出てきた！！！！！\\n順番に変換していけばよく⾒るこの形が導出できるんだね．\\n次に について考えよう．')]\n",
      "trimmerが呼び出されました\n",
      "トリマーに入力されたメッセージ <class 'list'>\n",
      "トリマーに入力されたメッセージ [HumanMessage(content='このドキュメントには何が書いてありますか？', additional_kwargs={}, response_metadata={}), AIMessage(content='確率論、特にポアソン分布と二項分布について書かれています。  モーメント、期待値、分散、確率密度関数、分布関数などの用語が登場し、ポアソン分布のパラメータや自由度についても言及されています。  さらに、二項分布からポアソン分布への変換についても触れられています。', additional_kwargs={}, response_metadata={})]\n",
      "トリミングされた後のデータタイプ <class 'langchain_core.chat_history.InMemoryChatMessageHistory'>\n",
      "トリミングされた後のデータ [HumanMessage(content='このドキュメントには何が書いてありますか？', additional_kwargs={}, response_metadata={}), AIMessage(content='確率論、特にポアソン分布と二項分布について書かれています。  モーメント、期待値、分散、確率密度関数、分布関数などの用語が登場し、ポアソン分布のパラメータや自由度についても言及されています。  さらに、二項分布からポアソン分布への変換についても触れられています。', additional_kwargs={}, response_metadata={})]\n",
      "trimmer実行完了\n",
      "get_msg_contentが呼び出されました\n",
      "response2: * モーメント母関数のマクローリン展開を用いた計算について説明があります。\n",
      "* 変換後の平均・分散を変換前の確率変数で表す方法について解説があります。\n",
      "* 周辺確率と条件付き確率についての説明があります。\n"
     ]
    }
   ],
   "source": [
    "# 5) もう一度質問すると、前のやり取りの履歴があり再構成が行われます\n",
    "response2 = rag_trim_chatbot.ask(\"具体的なポイントを教えてください。\", session_id=\"1\")\n",
    "print(\"response2:\", response2)"
   ]
  },
  {
   "cell_type": "code",
   "execution_count": 5,
   "metadata": {},
   "outputs": [
    {
     "name": "stdout",
     "output_type": "stream",
     "text": [
      "ask実行中です\n",
      "現在のsession_id: 1\n",
      "get_session_historyが呼び出されました\n",
      "タイプ：<class 'dict'>, histories:{'1': InMemoryChatMessageHistory(messages=[HumanMessage(content='このドキュメントには何が書いてありますか？', additional_kwargs={}, response_metadata={}), AIMessage(content='確率論、特にポアソン分布と二項分布について書かれています。  モーメント、期待値、分散、確率密度関数、分布関数などの用語が登場し、ポアソン分布のパラメータや自由度についても言及されています。  さらに、二項分布からポアソン分布への変換についても触れられています。', additional_kwargs={}, response_metadata={}), HumanMessage(content='具体的なポイントを教えてください。', additional_kwargs={}, response_metadata={}), AIMessage(content='* モーメント母関数のマクローリン展開を用いた計算について説明があります。\\n* 変換後の平均・分散を変換前の確率変数で表す方法について解説があります。\\n* 周辺確率と条件付き確率についての説明があります。', additional_kwargs={}, response_metadata={})])}\n",
      "タイプ:<class 'str'>session_id:1\n",
      "タイプ：<class 'langchain_core.chat_history.InMemoryChatMessageHistory'>, Human: このドキュメントには何が書いてありますか？\n",
      "AI: 確率論、特にポアソン分布と二項分布について書かれています。  モーメント、期待値、分散、確率密度関数、分布関数などの用語が登場し、ポアソン分布のパラメータや自由度についても言及されています。  さらに、二項分布からポアソン分布への変換についても触れられています。\n",
      "Human: 具体的なポイントを教えてください。\n",
      "AI: * モーメント母関数のマクローリン展開を用いた計算について説明があります。\n",
      "* 変換後の平均・分散を変換前の確率変数で表す方法について解説があります。\n",
      "* 周辺確率と条件付き確率についての説明があります。\n",
      "wrapper_for_chainが呼び出されました\n",
      "history_aware_qaが呼び出されました\n",
      "型: <class 'dict'>\n",
      "input_: {'input': 'モーメントについて詳しく教えて', 'chat_history': [HumanMessage(content='このドキュメントには何が書いてありますか？', additional_kwargs={}, response_metadata={}), AIMessage(content='確率論、特にポアソン分布と二項分布について書かれています。  モーメント、期待値、分散、確率密度関数、分布関数などの用語が登場し、ポアソン分布のパラメータや自由度についても言及されています。  さらに、二項分布からポアソン分布への変換についても触れられています。', additional_kwargs={}, response_metadata={}), HumanMessage(content='具体的なポイントを教えてください。', additional_kwargs={}, response_metadata={}), AIMessage(content='* モーメント母関数のマクローリン展開を用いた計算について説明があります。\\n* 変換後の平均・分散を変換前の確率変数で表す方法について解説があります。\\n* 周辺確率と条件付き確率についての説明があります。', additional_kwargs={}, response_metadata={})]}\n",
      "-----------------\n",
      "get_msg_contentが呼び出されました\n",
      "context: [Document(id='9ddd703a-cf8e-4ea8-8d8d-54735ac59c83', metadata={}, page_content='確率変数の 乗というのはよく出てくる．以下の式だって の期待値， の期待\\n値，確率密度の積分(規格化により1\\nうん，こいつらはよく出てくるのでまとめよう．それがモーメント.\\nモーメント'), Document(id='3dc80baa-8492-43d9-b0eb-118942a373ef', metadata={}, page_content='値，確率密度の積分(規格化により1\\nうん，こいつらはよく出てくるのでまとめよう．それがモーメント.\\nモーメント\\n=確率変数の~乗の期待値．\\n確率変数の 乗のモーメントは特別 次のモーメントというよ．'), Document(id='97666784-d43c-458d-8533-4a15514e7821', metadata={}, page_content='次のモーメントを求めていくことができる．らしい．\\n復習(低次のモーメント)\\n低次のモーメント\\n⼀次のモーメントはそのまま平均で，ニ次のモーメントがわかっていれば分散が出\\nせる．\\n平均周りのモーメント'), Document(id='641c3890-04aa-4045-8f54-b356d1c9884d', metadata={}, page_content='モーメント\\n=確率変数の~乗の期待値．\\n確率変数の 乗のモーメントは特別 次のモーメントというよ．\\nふむふむ，てことは平均は⼀次のモーメントってことだね．式でかくとこれ'), Document(id='ff5e158b-2b6e-40e9-a5c2-f13afb772fd1', metadata={}, page_content='分散は⼀次のモーメントと⼆次のモーメントがあれば出せるので⼆次のモーメントだけ出せばOK\\nんでどうするかというと，\\nをもう⼀回微分する．\\n⼆次のモーメントが求められた．早速分散にしてみよう．'), Document(id='f928325e-63d6-4e5c-b507-85cc6c08b388', metadata={}, page_content='具体的な確率密度でモーメントを求めてみる！！！\\n板書そのまま\\nk前半(確率論の考え⽅の基礎) 10\\n最終的に がもとまるのがアツい． 次のモーメントが知りたかったら を⼊れてい\\nけば求められる．'), Document(id='ff4e1d49-8026-49d8-bb23-4998d4dbceaa', metadata={}, page_content='出てきた．モーメントを知っているとこれが導出できるんやね．\\n第三回\\n第三回ではもっとモーメントについて深めていく．\\n⾼次のモーメント\\nモーメント⺟関数，期待値の性質．'), Document(id='5e71d65e-ea57-4879-949a-2273fc0cf396', metadata={}, page_content='んでどうするかというと，\\nをもう⼀回微分する．\\n⼆次のモーメントが求められた．早速分散にしてみよう．\\nできた．実は なので とも表すことができる．\\n第⼋回\\n⼤数の法則')]\n",
      "trimmerが呼び出されました\n",
      "トリマーに入力されたメッセージ <class 'list'>\n",
      "トリマーに入力されたメッセージ [HumanMessage(content='このドキュメントには何が書いてありますか？', additional_kwargs={}, response_metadata={}), AIMessage(content='確率論、特にポアソン分布と二項分布について書かれています。  モーメント、期待値、分散、確率密度関数、分布関数などの用語が登場し、ポアソン分布のパラメータや自由度についても言及されています。  さらに、二項分布からポアソン分布への変換についても触れられています。', additional_kwargs={}, response_metadata={}), HumanMessage(content='具体的なポイントを教えてください。', additional_kwargs={}, response_metadata={}), AIMessage(content='* モーメント母関数のマクローリン展開を用いた計算について説明があります。\\n* 変換後の平均・分散を変換前の確率変数で表す方法について解説があります。\\n* 周辺確率と条件付き確率についての説明があります。', additional_kwargs={}, response_metadata={})]\n",
      "トリミングされた後のデータタイプ <class 'langchain_core.chat_history.InMemoryChatMessageHistory'>\n",
      "トリミングされた後のデータ [HumanMessage(content='具体的なポイントを教えてください。', additional_kwargs={}, response_metadata={}), AIMessage(content='* モーメント母関数のマクローリン展開を用いた計算について説明があります。\\n* 変換後の平均・分散を変換前の確率変数で表す方法について解説があります。\\n* 周辺確率と条件付き確率についての説明があります。', additional_kwargs={}, response_metadata={})]\n",
      "trimmer実行完了\n",
      "get_msg_contentが呼び出されました\n",
      "response3: モーメントは「確率変数のn乗の期待値」です。\n",
      "1次のモーメントは平均、2次のモーメントを使うと分散を求められます。\n",
      "n次のモーメントは、モーメント母関数をn回微分することで求められます。\n"
     ]
    }
   ],
   "source": [
    "# 6) トリミングの適用を確認するため、何度もやり取りを繰り返すと履歴が短縮されていく様子がわかります。\n",
    "#    例:\n",
    "response3 = rag_trim_chatbot.ask(\"モーメントについて詳しく教えて\", session_id=\"1\")\n",
    "print(\"response3:\", response3)"
   ]
  },
  {
   "cell_type": "code",
   "execution_count": 6,
   "metadata": {},
   "outputs": [
    {
     "name": "stdout",
     "output_type": "stream",
     "text": [
      "ask実行中です\n",
      "現在のsession_id: 1\n",
      "get_session_historyが呼び出されました\n",
      "タイプ：<class 'dict'>, histories:{'1': InMemoryChatMessageHistory(messages=[HumanMessage(content='具体的なポイントを教えてください。', additional_kwargs={}, response_metadata={}), AIMessage(content='* モーメント母関数のマクローリン展開を用いた計算について説明があります。\\n* 変換後の平均・分散を変換前の確率変数で表す方法について解説があります。\\n* 周辺確率と条件付き確率についての説明があります。', additional_kwargs={}, response_metadata={}), HumanMessage(content='モーメントについて詳しく教えて', additional_kwargs={}, response_metadata={}), AIMessage(content='モーメントは「確率変数のn乗の期待値」です。\\n1次のモーメントは平均、2次のモーメントを使うと分散を求められます。\\nn次のモーメントは、モーメント母関数をn回微分することで求められます。', additional_kwargs={}, response_metadata={})])}\n",
      "タイプ:<class 'str'>session_id:1\n",
      "タイプ：<class 'langchain_core.chat_history.InMemoryChatMessageHistory'>, Human: 具体的なポイントを教えてください。\n",
      "AI: * モーメント母関数のマクローリン展開を用いた計算について説明があります。\n",
      "* 変換後の平均・分散を変換前の確率変数で表す方法について解説があります。\n",
      "* 周辺確率と条件付き確率についての説明があります。\n",
      "Human: モーメントについて詳しく教えて\n",
      "AI: モーメントは「確率変数のn乗の期待値」です。\n",
      "1次のモーメントは平均、2次のモーメントを使うと分散を求められます。\n",
      "n次のモーメントは、モーメント母関数をn回微分することで求められます。\n",
      "wrapper_for_chainが呼び出されました\n",
      "history_aware_qaが呼び出されました\n",
      "型: <class 'dict'>\n",
      "input_: {'input': 'もう少しわかりやすく教えてください', 'chat_history': [HumanMessage(content='具体的なポイントを教えてください。', additional_kwargs={}, response_metadata={}), AIMessage(content='* モーメント母関数のマクローリン展開を用いた計算について説明があります。\\n* 変換後の平均・分散を変換前の確率変数で表す方法について解説があります。\\n* 周辺確率と条件付き確率についての説明があります。', additional_kwargs={}, response_metadata={}), HumanMessage(content='モーメントについて詳しく教えて', additional_kwargs={}, response_metadata={}), AIMessage(content='モーメントは「確率変数のn乗の期待値」です。\\n1次のモーメントは平均、2次のモーメントを使うと分散を求められます。\\nn次のモーメントは、モーメント母関数をn回微分することで求められます。', additional_kwargs={}, response_metadata={})]}\n",
      "-----------------\n",
      "get_msg_contentが呼び出されました\n",
      "context: [Document(id='afc7119f-42dd-4fef-814d-3db4383883b9', metadata={}, page_content='換として捉えた⽅が，何かと便利．ということで．\\n確率変数\\n確率変数\\nを考える．今 は後で扱いやすいから置いただけだよ．\\nそして確率密度関数を考える．\\n確率密度関数\\nそしてポイント．周辺確率をとる．'), Document(id='5e71d65e-ea57-4879-949a-2273fc0cf396', metadata={}, page_content='んでどうするかというと，\\nをもう⼀回微分する．\\n⼆次のモーメントが求められた．早速分散にしてみよう．\\nできた．実は なので とも表すことができる．\\n第⼋回\\n⼤数の法則'), Document(id='ebb32597-7859-4aa0-a982-b0b3bf8e3539', metadata={}, page_content='確率変数\\nを考える．今 は後で扱いやすいから置いただけだよ．\\nそして確率密度関数を考える．\\n確率密度関数\\nそしてポイント．周辺確率をとる．\\n周辺確率\\n周辺確率'), Document(id='7fb69af6-8a32-4f66-98f8-5e2aab63bf49', metadata={}, page_content='まず，確率変数 を⽤意する．\\nそしてこの⼆つの確率変数の和を，確率変数\\nとする．\\n我々は，今 がどのような分布になるのか．( の分布と の分布の関係性)を知\\nりたい．\\nそこで確率密度関数を考える．'), Document(id='b12d1567-1378-4622-90ad-3f2540a6f12a', metadata={}, page_content='実際に変換すると以下のようになっている．\\nの確率密度関数を ， の確率密度関数を とする．\\nより， したがって\\n何を表すかというと が⼤きくなるとその分 にスカラー倍されて⼤きい値を取るということ．'), Document(id='1ff7ba93-0a09-476e-81b8-7189fcac602a', metadata={}, page_content='る．\\n相関係数が規格化されていることの証明( の証明)\\nまず以下を考える．\\nここから何をやるのか． が正になると⾔って，不等式を\\n⽴てる．\\nそんで証明する．'), Document(id='8c3f2b35-d061-4073-9957-eb215139efbd', metadata={}, page_content='はどのような値を取るのか，どのような値を取ると期待されるのかを知りた\\nい．\\nちなみに の分布もわからないのでどのような値を取るかの情報は確率密度関数\\nしかない．'), Document(id='2f375cb0-b50d-4bfc-96c6-5dcbb2b3b7ff', metadata={}, page_content='モーメント⺟関数は以下のように定義される．\\nを の多項式で表現すると，\\nの項と 次のモーメントの間に の の項の係数という関係．\\nええ，すごいな，なんでいきなりこんな関係が出てくるんだろう…\\ne\\nx')]\n",
      "trimmerが呼び出されました\n",
      "トリマーに入力されたメッセージ <class 'list'>\n",
      "トリマーに入力されたメッセージ [HumanMessage(content='具体的なポイントを教えてください。', additional_kwargs={}, response_metadata={}), AIMessage(content='* モーメント母関数のマクローリン展開を用いた計算について説明があります。\\n* 変換後の平均・分散を変換前の確率変数で表す方法について解説があります。\\n* 周辺確率と条件付き確率についての説明があります。', additional_kwargs={}, response_metadata={}), HumanMessage(content='モーメントについて詳しく教えて', additional_kwargs={}, response_metadata={}), AIMessage(content='モーメントは「確率変数のn乗の期待値」です。\\n1次のモーメントは平均、2次のモーメントを使うと分散を求められます。\\nn次のモーメントは、モーメント母関数をn回微分することで求められます。', additional_kwargs={}, response_metadata={})]\n",
      "トリミングされた後のデータタイプ <class 'langchain_core.chat_history.InMemoryChatMessageHistory'>\n",
      "トリミングされた後のデータ [HumanMessage(content='モーメントについて詳しく教えて', additional_kwargs={}, response_metadata={}), AIMessage(content='モーメントは「確率変数のn乗の期待値」です。\\n1次のモーメントは平均、2次のモーメントを使うと分散を求められます。\\nn次のモーメントは、モーメント母関数をn回微分することで求められます。', additional_kwargs={}, response_metadata={})]\n",
      "trimmer実行完了\n",
      "get_msg_contentが呼び出されました\n",
      "response4: 確率変数の分布の特徴を捉えるための指標の一つがモーメントです。\n",
      "1次モーメントは平均値、2次モーメントは分散の計算に使われます。\n",
      "モーメント母関数は、確率分布のモーメントを生成する関数であり、この関数をn回微分することでn次モーメントが得られます。\n"
     ]
    }
   ],
   "source": [
    "response4 = rag_trim_chatbot.ask(\"もう少しわかりやすく教えてください\", session_id=\"1\")\n",
    "print(\"response4:\", response4)"
   ]
  },
  {
   "cell_type": "code",
   "execution_count": 7,
   "metadata": {},
   "outputs": [
    {
     "name": "stdout",
     "output_type": "stream",
     "text": [
      "ask実行中です\n",
      "現在のsession_id: 2\n",
      "get_session_historyが呼び出されました\n",
      "タイプ：<class 'dict'>, histories:{'1': InMemoryChatMessageHistory(messages=[HumanMessage(content='モーメントについて詳しく教えて', additional_kwargs={}, response_metadata={}), AIMessage(content='モーメントは「確率変数のn乗の期待値」です。\\n1次のモーメントは平均、2次のモーメントを使うと分散を求められます。\\nn次のモーメントは、モーメント母関数をn回微分することで求められます。', additional_kwargs={}, response_metadata={}), HumanMessage(content='もう少しわかりやすく教えてください', additional_kwargs={}, response_metadata={}), AIMessage(content='確率変数の分布の特徴を捉えるための指標の一つがモーメントです。\\n1次モーメントは平均値、2次モーメントは分散の計算に使われます。\\nモーメント母関数は、確率分布のモーメントを生成する関数であり、この関数をn回微分することでn次モーメントが得られます。', additional_kwargs={}, response_metadata={})])}\n",
      "タイプ:<class 'str'>session_id:2\n",
      "タイプ：<class 'langchain_core.chat_history.InMemoryChatMessageHistory'>, \n",
      "wrapper_for_chainが呼び出されました\n",
      "history_aware_qaが呼び出されました\n",
      "型: <class 'dict'>\n",
      "input_: {'input': 'n次のモーメントとは具体的には？', 'chat_history': []}\n",
      "-----------------\n",
      "context: [Document(id='f928325e-63d6-4e5c-b507-85cc6c08b388', metadata={}, page_content='具体的な確率密度でモーメントを求めてみる！！！\\n板書そのまま\\nk前半(確率論の考え⽅の基礎) 10\\n最終的に がもとまるのがアツい． 次のモーメントが知りたかったら を⼊れてい\\nけば求められる．'), Document(id='743f898f-ebba-48b5-962b-2ef396497656', metadata={}, page_content='⼆項分布の分散\\n分散は⼀次のモーメントと⼆次のモーメントがあれば出せるので⼆次のモーメントだけ出せばOK\\nんでどうするかというと，\\nをもう⼀回微分する．'), Document(id='cf784d85-e2b1-4fd6-86b3-c5a21cc36833', metadata={}, page_content='次のモーメントがこんなにもスッキリ表せた．\\n具体的な確率密度でモーメントを求めてみる！！！\\n板書そのまま\\nk前半(確率論の考え⽅の基礎) 10'), Document(id='ff4e1d49-8026-49d8-bb23-4998d4dbceaa', metadata={}, page_content='出てきた．モーメントを知っているとこれが導出できるんやね．\\n第三回\\n第三回ではもっとモーメントについて深めていく．\\n⾼次のモーメント\\nモーメント⺟関数，期待値の性質．'), Document(id='b2cfe065-db0c-45bd-b9f3-dd5eac968ded', metadata={}, page_content='第三回\\n第三回ではもっとモーメントについて深めていく．\\n⾼次のモーメント\\nモーメント⺟関数，期待値の性質．\\nモーメント⺟関数：ある確率変数の関数．その関数の期待値を求めていくことで⾼'), Document(id='97666784-d43c-458d-8533-4a15514e7821', metadata={}, page_content='次のモーメントを求めていくことができる．らしい．\\n復習(低次のモーメント)\\n低次のモーメント\\n⼀次のモーメントはそのまま平均で，ニ次のモーメントがわかっていれば分散が出\\nせる．\\n平均周りのモーメント'), Document(id='7bf4c2dd-4e05-400c-8677-ef7d2f31ac03', metadata={}, page_content='tk\\nt\\nk前半(確率論の考え⽅の基礎) 8\\n⼀旦整理すると， 次のモーメントは の各項の係数と関係があるって⾔ってるの\\nよ．'), Document(id='483fbcea-8939-4417-92c7-21e0720142b8', metadata={}, page_content='俺はこれよくわからないけど⼀回受け⼊れよう．\\nモーメント⺟関数\\nモーメント⺟関数は以下のように定義される．\\nを の多項式で表現すると，\\nの項と 次のモーメントの間に の の項の係数という関係．')]\n",
      "trimmerが呼び出されました\n",
      "トリマーに入力されたメッセージ <class 'list'>\n",
      "トリマーに入力されたメッセージ []\n",
      "トリミングされた後のデータタイプ <class 'langchain_core.chat_history.InMemoryChatMessageHistory'>\n",
      "トリミングされた後のデータ []\n",
      "trimmer実行完了\n",
      "get_msg_contentが呼び出されました\n",
      "response5: モーメント母関数をtの多項式で表現した際の、tのn乗の項の係数にn!を掛けたものです。\n",
      "モーメント母関数のn階微分に0を代入したものと一致します。\n",
      "一次のモーメントは平均、二次モーメントから分散を求めることができます。\n"
     ]
    }
   ],
   "source": [
    "response5 = rag_trim_chatbot.ask(\"n次のモーメントとは具体的には？\", session_id=\"2\")\n",
    "print(\"response5:\", response5)"
   ]
  },
  {
   "cell_type": "code",
   "execution_count": 9,
   "metadata": {},
   "outputs": [
    {
     "data": {
      "text/plain": [
       "{'1': InMemoryChatMessageHistory(messages=[HumanMessage(content='モーメントについて詳しく教えて', additional_kwargs={}, response_metadata={}), AIMessage(content='モーメントは「確率変数のn乗の期待値」です。\\n1次のモーメントは平均、2次のモーメントを使うと分散を求められます。\\nn次のモーメントは、モーメント母関数をn回微分することで求められます。', additional_kwargs={}, response_metadata={}), HumanMessage(content='もう少しわかりやすく教えてください', additional_kwargs={}, response_metadata={}), AIMessage(content='確率変数の分布の特徴を捉えるための指標の一つがモーメントです。\\n1次モーメントは平均値、2次モーメントは分散の計算に使われます。\\nモーメント母関数は、確率分布のモーメントを生成する関数であり、この関数をn回微分することでn次モーメントが得られます。', additional_kwargs={}, response_metadata={})]),\n",
       " '2': InMemoryChatMessageHistory(messages=[HumanMessage(content='n次のモーメントとは具体的には？', additional_kwargs={}, response_metadata={}), AIMessage(content='モーメント母関数をtの多項式で表現した際の、tのn乗の項の係数にn!を掛けたものです。\\nモーメント母関数のn階微分に0を代入したものと一致します。\\n一次のモーメントは平均、二次モーメントから分散を求めることができます。', additional_kwargs={}, response_metadata={})])}"
      ]
     },
     "execution_count": 9,
     "metadata": {},
     "output_type": "execute_result"
    }
   ],
   "source": [
    "rag_trim_chatbot.histories"
   ]
  },
  {
   "cell_type": "code",
   "execution_count": null,
   "metadata": {},
   "outputs": [],
   "source": []
  }
 ],
 "metadata": {
  "kernelspec": {
   "display_name": ".env_RAG",
   "language": "python",
   "name": "python3"
  },
  "language_info": {
   "codemirror_mode": {
    "name": "ipython",
    "version": 3
   },
   "file_extension": ".py",
   "mimetype": "text/x-python",
   "name": "python",
   "nbconvert_exporter": "python",
   "pygments_lexer": "ipython3",
   "version": "3.12.4"
  }
 },
 "nbformat": 4,
 "nbformat_minor": 2
}
